{
 "cells": [
  {
   "cell_type": "code",
   "execution_count": 74,
   "metadata": {},
   "outputs": [],
   "source": [
    "import os\n",
    "import shutil\n",
    "import nbconvert\n",
    "import nbformat\n",
    "\n",
    "# set the current directory to the where the code snippets are\n",
    "dest_root = os.path.join(os.getcwd(), 'docs')\n",
    "notes_rel = '../../Notes/Code Snippets/'\n",
    "source_root = os.path.join(os.getcwd(), notes_rel)\n",
    "os.chdir(source_root)"
   ]
  },
  {
   "cell_type": "code",
   "execution_count": 44,
   "metadata": {},
   "outputs": [],
   "source": [
    "# Three resources on how to do this:\n",
    "# 1st: https://github.com/jupyter/nbconvert/issues/699#issuecomment-372441219       this works\n",
    "# 2nd: https://gist.github.com/connerxyz/df8e1a2d3915aade869c968725c15cf3           this also works\n",
    "# 3rd: https://nbconvert.readthedocs.io/en/latest/nbconvert_library.html#Example    couldn't get this to work"
   ]
  },
  {
   "cell_type": "code",
   "execution_count": 56,
   "metadata": {},
   "outputs": [],
   "source": [
    "def ipynb_to_markdown(src_file, dest):\n",
    "\n",
    "    file_name = src_file[src_file.rfind('/')+1:]\n",
    "\n",
    "    with open(src_file) as nb_file:\n",
    "        nb_contents = nb_file.read()\n",
    "\n",
    "    # Convert using the ordinary exporter\n",
    "    notebook = nbformat.reads(nb_contents, as_version=4)\n",
    "    exporter = nbconvert.MarkdownExporter()\n",
    "    body, res = exporter.from_notebook_node(notebook)\n",
    "\n",
    "    # Fix up the markdown (included images to subfolder)\n",
    "    for key in res['outputs']:\n",
    "        body = body.replace(f'({key})', f'({file_name}-files/{key})')\n",
    "\n",
    "    #  Write markdown file to disk\n",
    "    with open(os.path.join(dest,file_name+'.md'), 'w') as output_file:\n",
    "        output_file.write(body)\n",
    "\n",
    "    #  Write images to disk\n",
    "    for key in res['outputs']:\n",
    "        os.makedirs(os.path.join(dest,file_name+'-files'), exist_ok=True) # create folder\n",
    "        fname = os.path.join(*[dest,file_name+'-files',key])\n",
    "        with open(fname, 'wb') as output_file:\n",
    "            output_file.write(res['outputs'][key])"
   ]
  },
  {
   "cell_type": "code",
   "execution_count": 76,
   "metadata": {},
   "outputs": [],
   "source": [
    "# start with the root directory, save the relative path in a variable\n",
    "\n",
    "# - get a list of directory contents\n",
    "# - go through the list of directory contents\n",
    "#     - if entry is a file, process the file:\n",
    "#         determine the target folder (including file name, and parameters to be added into the file)\n",
    "#         if the file is a jupyter file:\n",
    "#             convert to markdown -> and copy into the folder\n",
    "#         if the file is a markdown file:\n",
    "#             copy into the folder\n",
    "#         open the file and edit the paramters\n",
    "#     - if entry is a folder, then process the folder:\n",
    "        \n",
    "\n",
    "def process_folder(cur_loc):\n",
    "    p = os.listdir(cur_loc) # get list of all file and folders in the directory\n",
    "    if '.obsidian' in p:    # housekeeping: exclude certain folders\n",
    "        p.remove('.obsidian') # clean list\n",
    "\n",
    "    # go through the list:\n",
    "    for i in p:\n",
    "        if os.path.isdir(cur_loc+'/'+i): # i is a directory\n",
    "            #print(cur_loc+'/'+i)\n",
    "            process_folder(cur_loc+'/'+i)\n",
    "        else: # i is a file\n",
    "            process_file(cur_loc+'/'+i)\n",
    "\n",
    "\n",
    "\n",
    "def process_file(filepname):    # filepname is always relative to the source_root\n",
    "        file_extension = filepname[filepname.rfind('.')+1:]\n",
    "        file_name = filepname[filepname.rfind('/')+1:]\n",
    "        file_loc = filepname[2:filepname.rfind('/')+1]\n",
    "        #print(file_extension, file_name, file_path)\n",
    "        if file_extension == 'md':\n",
    "            os.makedirs(os.path.join(dest_root,file_loc), exist_ok=True)                            # create/ensure destination directory exists\n",
    "            shutil.copy2(os.path.join(*[source_root,file_loc,file_name]), os.path.join(dest_root,file_loc))     # copy the file there\n",
    "            write_header(filepname)\n",
    "            process_psr_markup(filepname)\n",
    "            \n",
    "        if file_extension == 'ipynb':\n",
    "            os.makedirs(os.path.join(dest_root,file_loc), exist_ok=True)                            # create/ensure destination directory exists\n",
    "            ipynb_to_markdown(os.path.join(*[source_root,file_loc,file_name]),os.path.join(dest_root,file_loc)) # convert the file\n",
    "            write_header(filepname+'.md')\n",
    "            process_psr_markup(filepname+'.md')\n",
    "\n",
    "\n",
    "\n",
    "def write_header(filepname):\n",
    "    # file_extension = filepname[filepname.rfind('.')+1:]\n",
    "    # file_name = filepname[filepname.rfind('/')+1:]\n",
    "    file_loc = filepname[2:filepname.rfind('/')+1]\n",
    "    file_name_wo_ext = filepname[filepname.rfind('/')+1:filepname.rfind('.')]\n",
    "\n",
    "\n",
    "    # CREATE THE HEADER\n",
    "    # has_children: 'true' wenn es einen Ordner mit dem gleichen Namen wie das Dokument gibt; ansonsten 'false'\n",
    "    # parent: Name des Ordners in dem das Dokument liegt, ausser der Ordner ist 'docs' (oder leer), dann wird die Zeile 'parent' ausgelassen\n",
    "    # nav_order: Zahl vor dem Titel der Datei (= vor dem ersten Leerzeichen)\n",
    "    # title: Name der Datei (ohne nav_order; = nach dem ersten Leerzeichen)\n",
    "\n",
    "    header = ['---\\n'] # start the header\n",
    "\n",
    "    # has children\n",
    "    haschildren = os.path.isdir(os.path.join(file_loc,file_name_wo_ext)) # if the folder existed, then it would have the same name as the file\n",
    "    if haschildren:\n",
    "        # print(f'The file {filepname} has a child')\n",
    "        header.extend(['has_children: true \\n'])\n",
    "    \n",
    "    # parent:\n",
    "    parent_name = file_loc[file_loc[:-1].rfind('/')+1:-1]\n",
    "    if parent_name != 'docs' and parent_name != '' and parent_name != ' ': # the name of the root folder:\n",
    "        # print(parent_name)\n",
    "        header.extend([f'parent: {parent_name} \\n'])\n",
    "\n",
    "    # title:\n",
    "    title = file_name_wo_ext[file_name_wo_ext.find(' ')+1:]\n",
    "    header.extend([f'title: {title} \\n'])\n",
    "    \n",
    "    # order:\n",
    "    navorder = file_name_wo_ext[:file_name_wo_ext.find(' ')]\n",
    "    header.extend([f'nav_order: {navorder} \\n'])\n",
    "    \n",
    "    header.extend(['---\\n']) # finish the header\n",
    "    header.extend(['\\n'])\n",
    "\n",
    "\n",
    "    # WRITE THE FILE\n",
    "    with open(os.path.join(dest_root,filepname), 'r') as f:\n",
    "        text = f.readlines()\n",
    "    with open(os.path.join(dest_root,filepname), 'w') as f:    \n",
    "        f.writelines(header+text)\n",
    "\n",
    "\n",
    "def process_psr_markup(filepname):\n",
    "    file_loc = filepname[2:filepname.rfind('/')+1]\n",
    "    file_name_wo_ext = filepname[filepname.rfind('/')+1:filepname.rfind('.')]\n",
    "\n",
    "    # LOAD THE FILE\n",
    "    with open(os.path.join(dest_root,filepname), 'r') as f:\n",
    "        text = f.readlines()\n",
    "    \n",
    "    # CREATE THE TOC:\n",
    "    # check if a toc should be inserted and - if so - insert it into the text\n",
    "    #  a toc should be inserted if in the document there is a line '{:psr: toc here}'\n",
    "    #  in this case, replace the line '{:psr: toc here}' with the text in toc_insert\n",
    "    line_nr = next((i for i, x in enumerate(text) if x[:16]==\"{:psr: toc here}\"), -1) # search for the line\n",
    "    if line_nr != -1: # check if a toc should be inserted (= in case a line was found)\n",
    "        toc_insert = ['{: .no_toc } \\n', '<details open markdown=\"block\"> \\n', '  <summary> \\n', '    Table of contents \\n', '  </summary> \\n', '  {: .text-delta } \\n', '1. TOC \\n', '{:toc} \\n', '</details>] \\n']    \n",
    "        text = text[:line_nr]+toc_insert+text[line_nr+1:] # take out the line and insert the toc\n",
    "        \n",
    "    # SAVE THE FILE\n",
    "    with open(os.path.join(dest_root,filepname), 'w') as f:    \n",
    "        f.writelines(text)\n",
    "\n"
   ]
  },
  {
   "cell_type": "code",
   "execution_count": 77,
   "metadata": {},
   "outputs": [
    {
     "ename": "NameError",
     "evalue": "name 'header' is not defined",
     "output_type": "error",
     "traceback": [
      "\u001b[1;31m---------------------------------------------------------------------------\u001b[0m",
      "\u001b[1;31mNameError\u001b[0m                                 Traceback (most recent call last)",
      "\u001b[1;32m<ipython-input-77-51cb69fc456e>\u001b[0m in \u001b[0;36m<module>\u001b[1;34m\u001b[0m\n\u001b[0;32m      1\u001b[0m \u001b[0mos\u001b[0m\u001b[1;33m.\u001b[0m\u001b[0mchdir\u001b[0m\u001b[1;33m(\u001b[0m\u001b[0msource_root\u001b[0m\u001b[1;33m)\u001b[0m\u001b[1;33m\u001b[0m\u001b[1;33m\u001b[0m\u001b[0m\n\u001b[1;32m----> 2\u001b[1;33m \u001b[0mprocess_folder\u001b[0m\u001b[1;33m(\u001b[0m\u001b[1;34m'.'\u001b[0m\u001b[1;33m)\u001b[0m\u001b[1;33m\u001b[0m\u001b[1;33m\u001b[0m\u001b[0m\n\u001b[0m",
      "\u001b[1;32m<ipython-input-76-8dd8b82a9296>\u001b[0m in \u001b[0;36mprocess_folder\u001b[1;34m(cur_loc)\u001b[0m\n\u001b[0;32m     22\u001b[0m         \u001b[1;32mif\u001b[0m \u001b[0mos\u001b[0m\u001b[1;33m.\u001b[0m\u001b[0mpath\u001b[0m\u001b[1;33m.\u001b[0m\u001b[0misdir\u001b[0m\u001b[1;33m(\u001b[0m\u001b[0mcur_loc\u001b[0m\u001b[1;33m+\u001b[0m\u001b[1;34m'/'\u001b[0m\u001b[1;33m+\u001b[0m\u001b[0mi\u001b[0m\u001b[1;33m)\u001b[0m\u001b[1;33m:\u001b[0m \u001b[1;31m# i is a directory\u001b[0m\u001b[1;33m\u001b[0m\u001b[1;33m\u001b[0m\u001b[0m\n\u001b[0;32m     23\u001b[0m             \u001b[1;31m#print(cur_loc+'/'+i)\u001b[0m\u001b[1;33m\u001b[0m\u001b[1;33m\u001b[0m\u001b[1;33m\u001b[0m\u001b[0m\n\u001b[1;32m---> 24\u001b[1;33m             \u001b[0mprocess_folder\u001b[0m\u001b[1;33m(\u001b[0m\u001b[0mcur_loc\u001b[0m\u001b[1;33m+\u001b[0m\u001b[1;34m'/'\u001b[0m\u001b[1;33m+\u001b[0m\u001b[0mi\u001b[0m\u001b[1;33m)\u001b[0m\u001b[1;33m\u001b[0m\u001b[1;33m\u001b[0m\u001b[0m\n\u001b[0m\u001b[0;32m     25\u001b[0m         \u001b[1;32melse\u001b[0m\u001b[1;33m:\u001b[0m \u001b[1;31m# i is a file\u001b[0m\u001b[1;33m\u001b[0m\u001b[1;33m\u001b[0m\u001b[0m\n\u001b[0;32m     26\u001b[0m             \u001b[0mprocess_file\u001b[0m\u001b[1;33m(\u001b[0m\u001b[0mcur_loc\u001b[0m\u001b[1;33m+\u001b[0m\u001b[1;34m'/'\u001b[0m\u001b[1;33m+\u001b[0m\u001b[0mi\u001b[0m\u001b[1;33m)\u001b[0m\u001b[1;33m\u001b[0m\u001b[1;33m\u001b[0m\u001b[0m\n",
      "\u001b[1;32m<ipython-input-76-8dd8b82a9296>\u001b[0m in \u001b[0;36mprocess_folder\u001b[1;34m(cur_loc)\u001b[0m\n\u001b[0;32m     24\u001b[0m             \u001b[0mprocess_folder\u001b[0m\u001b[1;33m(\u001b[0m\u001b[0mcur_loc\u001b[0m\u001b[1;33m+\u001b[0m\u001b[1;34m'/'\u001b[0m\u001b[1;33m+\u001b[0m\u001b[0mi\u001b[0m\u001b[1;33m)\u001b[0m\u001b[1;33m\u001b[0m\u001b[1;33m\u001b[0m\u001b[0m\n\u001b[0;32m     25\u001b[0m         \u001b[1;32melse\u001b[0m\u001b[1;33m:\u001b[0m \u001b[1;31m# i is a file\u001b[0m\u001b[1;33m\u001b[0m\u001b[1;33m\u001b[0m\u001b[0m\n\u001b[1;32m---> 26\u001b[1;33m             \u001b[0mprocess_file\u001b[0m\u001b[1;33m(\u001b[0m\u001b[0mcur_loc\u001b[0m\u001b[1;33m+\u001b[0m\u001b[1;34m'/'\u001b[0m\u001b[1;33m+\u001b[0m\u001b[0mi\u001b[0m\u001b[1;33m)\u001b[0m\u001b[1;33m\u001b[0m\u001b[1;33m\u001b[0m\u001b[0m\n\u001b[0m\u001b[0;32m     27\u001b[0m \u001b[1;33m\u001b[0m\u001b[0m\n\u001b[0;32m     28\u001b[0m \u001b[1;33m\u001b[0m\u001b[0m\n",
      "\u001b[1;32m<ipython-input-76-8dd8b82a9296>\u001b[0m in \u001b[0;36mprocess_file\u001b[1;34m(filepname)\u001b[0m\n\u001b[0;32m     37\u001b[0m             \u001b[0mshutil\u001b[0m\u001b[1;33m.\u001b[0m\u001b[0mcopy2\u001b[0m\u001b[1;33m(\u001b[0m\u001b[0mos\u001b[0m\u001b[1;33m.\u001b[0m\u001b[0mpath\u001b[0m\u001b[1;33m.\u001b[0m\u001b[0mjoin\u001b[0m\u001b[1;33m(\u001b[0m\u001b[1;33m*\u001b[0m\u001b[1;33m[\u001b[0m\u001b[0msource_root\u001b[0m\u001b[1;33m,\u001b[0m\u001b[0mfile_loc\u001b[0m\u001b[1;33m,\u001b[0m\u001b[0mfile_name\u001b[0m\u001b[1;33m]\u001b[0m\u001b[1;33m)\u001b[0m\u001b[1;33m,\u001b[0m \u001b[0mos\u001b[0m\u001b[1;33m.\u001b[0m\u001b[0mpath\u001b[0m\u001b[1;33m.\u001b[0m\u001b[0mjoin\u001b[0m\u001b[1;33m(\u001b[0m\u001b[0mdest_root\u001b[0m\u001b[1;33m,\u001b[0m\u001b[0mfile_loc\u001b[0m\u001b[1;33m)\u001b[0m\u001b[1;33m)\u001b[0m     \u001b[1;31m# copy the file there\u001b[0m\u001b[1;33m\u001b[0m\u001b[1;33m\u001b[0m\u001b[0m\n\u001b[0;32m     38\u001b[0m             \u001b[0mwrite_header\u001b[0m\u001b[1;33m(\u001b[0m\u001b[0mfilepname\u001b[0m\u001b[1;33m)\u001b[0m\u001b[1;33m\u001b[0m\u001b[1;33m\u001b[0m\u001b[0m\n\u001b[1;32m---> 39\u001b[1;33m             \u001b[0mprocess_psr_markup\u001b[0m\u001b[1;33m(\u001b[0m\u001b[0mfilepname\u001b[0m\u001b[1;33m)\u001b[0m\u001b[1;33m\u001b[0m\u001b[1;33m\u001b[0m\u001b[0m\n\u001b[0m\u001b[0;32m     40\u001b[0m \u001b[1;33m\u001b[0m\u001b[0m\n\u001b[0;32m     41\u001b[0m         \u001b[1;32mif\u001b[0m \u001b[0mfile_extension\u001b[0m \u001b[1;33m==\u001b[0m \u001b[1;34m'ipynb'\u001b[0m\u001b[1;33m:\u001b[0m\u001b[1;33m\u001b[0m\u001b[1;33m\u001b[0m\u001b[0m\n",
      "\u001b[1;32m<ipython-input-76-8dd8b82a9296>\u001b[0m in \u001b[0;36mprocess_psr_markup\u001b[1;34m(filepname)\u001b[0m\n\u001b[0;32m    112\u001b[0m     \u001b[1;31m# SAVE THE FILE\u001b[0m\u001b[1;33m\u001b[0m\u001b[1;33m\u001b[0m\u001b[1;33m\u001b[0m\u001b[0m\n\u001b[0;32m    113\u001b[0m     \u001b[1;32mwith\u001b[0m \u001b[0mopen\u001b[0m\u001b[1;33m(\u001b[0m\u001b[0mos\u001b[0m\u001b[1;33m.\u001b[0m\u001b[0mpath\u001b[0m\u001b[1;33m.\u001b[0m\u001b[0mjoin\u001b[0m\u001b[1;33m(\u001b[0m\u001b[0mdest_root\u001b[0m\u001b[1;33m,\u001b[0m\u001b[0mfilepname\u001b[0m\u001b[1;33m)\u001b[0m\u001b[1;33m,\u001b[0m \u001b[1;34m'w'\u001b[0m\u001b[1;33m)\u001b[0m \u001b[1;32mas\u001b[0m \u001b[0mf\u001b[0m\u001b[1;33m:\u001b[0m\u001b[1;33m\u001b[0m\u001b[1;33m\u001b[0m\u001b[0m\n\u001b[1;32m--> 114\u001b[1;33m         \u001b[0mf\u001b[0m\u001b[1;33m.\u001b[0m\u001b[0mwritelines\u001b[0m\u001b[1;33m(\u001b[0m\u001b[0mheader\u001b[0m\u001b[1;33m+\u001b[0m\u001b[0mtext\u001b[0m\u001b[1;33m)\u001b[0m\u001b[1;33m\u001b[0m\u001b[1;33m\u001b[0m\u001b[0m\n\u001b[0m\u001b[0;32m    115\u001b[0m \u001b[1;33m\u001b[0m\u001b[0m\n",
      "\u001b[1;31mNameError\u001b[0m: name 'header' is not defined"
     ]
    }
   ],
   "source": [
    "os.chdir(source_root)\n",
    "process_folder('.')"
   ]
  },
  {
   "cell_type": "code",
   "execution_count": 63,
   "metadata": {},
   "outputs": [
    {
     "data": {
      "text/plain": [
       "'c:\\\\Users\\\\Niklas\\\\OneDrive\\\\Notes\\\\Code Snippets\\\\../../Notes/Code Snippets/'"
      ]
     },
     "execution_count": 63,
     "metadata": {},
     "output_type": "execute_result"
    }
   ],
   "source": [
    "source_root"
   ]
  },
  {
   "cell_type": "code",
   "execution_count": null,
   "metadata": {},
   "outputs": [],
   "source": [
    "    toc_insert = [\n",
    "        '{: .no_toc } \\n',\n",
    "        '<details open markdown=\"block\"> \\n',\n",
    "        '  <summary> \\n',\n",
    "        '    Table of contents \\n',\n",
    "        '  </summary> \\n',\n",
    "        '  {: .text-delta } \\n',\n",
    "        '1. TOC \\n',\n",
    "        '{:toc} \\n',\n",
    "        '</details>] \\n']\n",
    "    print(toc_insert)\n",
    "\n",
    "    # toc:\n",
    "    #   check if a toc should be inserted and - if so - insert it into the text\n",
    "    if len(navorder)>3:\n",
    "        if navorder[-3:] == '_TOC':\n",
    "            line_nr = next((i for i, x in enumerate(text) if x[:2]==\"# \"), [-1]) # find the line of the first heading\n",
    "            text = text[:line_nr+1]\n",
    "            line_nr = next((line_nr for line_nr, line in enumerate(text) if [line[:2]==\"# \"]), -1) # find the line of the first heading\n",
    "            text = text[:line_nr+1]+toc_insert+text[:line_nr+1]"
   ]
  },
  {
   "cell_type": "code",
   "execution_count": 11,
   "metadata": {},
   "outputs": [],
   "source": [
    "text = [\n",
    "    '{: .no_toc } \\n',\n",
    "    '<details open markdown=\"block\"> \\n',\n",
    "    '  <summary> \\n',\n",
    "    '    Table of contents \\n',\n",
    "    '  </summary> \\n',\n",
    "    '  {: .text-delta } \\n',\n",
    "    '1. TOC \\n',\n",
    "    '{:toc} \\n',\n",
    "    '</details>] \\n']"
   ]
  },
  {
   "cell_type": "code",
   "execution_count": 14,
   "metadata": {},
   "outputs": [
    {
     "data": {
      "text/plain": [
       "'<details open markdown=\"block\"> \\n'"
      ]
     },
     "execution_count": 14,
     "metadata": {},
     "output_type": "execute_result"
    }
   ],
   "source": [
    "text[1]"
   ]
  },
  {
   "cell_type": "code",
   "execution_count": 20,
   "metadata": {},
   "outputs": [
    {
     "data": {
      "text/plain": [
       "'  <summary> \\n'"
      ]
     },
     "execution_count": 20,
     "metadata": {},
     "output_type": "execute_result"
    }
   ],
   "source": [
    "next((x for x in text if x[:2]==\"  \"), [-1])"
   ]
  },
  {
   "cell_type": "code",
   "execution_count": 40,
   "metadata": {},
   "outputs": [],
   "source": [
    "line_nr = next((i for i, x in enumerate(text) if x[:2]==\"as\"), -1) # find the line of the first heading"
   ]
  },
  {
   "cell_type": "code",
   "execution_count": 41,
   "metadata": {},
   "outputs": [],
   "source": [
    "if line_nr <-1:\n",
    "    print('ja')"
   ]
  },
  {
   "cell_type": "code",
   "execution_count": 42,
   "metadata": {},
   "outputs": [
    {
     "data": {
      "text/plain": [
       "['asdf \\n',\n",
       " 'dfdf \\n',\n",
       " '{: .no_toc } \\n',\n",
       " '<details open markdown=\"block\"> \\n',\n",
       " '  <summary> \\n',\n",
       " '    Table of contents \\n',\n",
       " '  </summary> \\n',\n",
       " '  {: .text-delta } \\n',\n",
       " '1. TOC \\n',\n",
       " '{:toc} \\n',\n",
       " '</details>] \\n']"
      ]
     },
     "execution_count": 42,
     "metadata": {},
     "output_type": "execute_result"
    }
   ],
   "source": [
    "text[:line_nr+1]+['asdf \\n','dfdf \\n']+text[line_nr+1:]"
   ]
  },
  {
   "cell_type": "code",
   "execution_count": null,
   "metadata": {},
   "outputs": [],
   "source": [
    "import nbconvert\n",
    "import nbformat\n",
    "\n",
    "with open('health-insurance.ipynb') as nb_file:\n",
    "    nb_contents = nb_file.read()\n",
    "\n",
    "# Convert using the ordinary exporter\n",
    "notebook = nbformat.reads(nb_contents, as_version=4)\n",
    "exporter = nbconvert.MarkdownExporter()\n",
    "body, res = exporter.from_notebook_node(notebook)\n",
    "\n",
    "# Fix up the markdown (included images to subfolder)\n",
    "for key in res['outputs']:\n",
    "    body = body.replace(f'({key})', f'(/logs/{key})')\n",
    "\n",
    "#  Write markdown file to disk\n",
    "with open('health-insurance.ipynb.md', 'w') as output_file:\n",
    "    output_file.write(body)\n",
    "\n",
    "#  Write images to disk\n",
    "for key in res['outputs']:\n",
    "    fname = 'asdf'+key\n",
    "    with open(fname, 'wb') as output_file:\n",
    "        output_file.write(res['outputs'][key])"
   ]
  },
  {
   "cell_type": "code",
   "execution_count": 39,
   "metadata": {},
   "outputs": [
    {
     "data": {
      "text/plain": [
       "['---\\n', 'has_children: asdf']"
      ]
     },
     "execution_count": 39,
     "metadata": {},
     "output_type": "execute_result"
    }
   ],
   "source": [
    "filepname=\"Pandas.md\"\n",
    "os.getcwd()\n",
    "\n",
    "with open(filepname, 'r') as f:\n",
    "    text = f.readlines()\n",
    "    \n",
    "    # new_text = \"\\n\".join([line if line != orig else new for line in text])\n",
    "\n",
    "new_text = ['---\\n']\n",
    "new_text.extend(['has_children: asdf \\n'])\n",
    "new_text"
   ]
  },
  {
   "cell_type": "code",
   "execution_count": 10,
   "metadata": {},
   "outputs": [
    {
     "name": "stdout",
     "output_type": "stream",
     "text": [
      "directory name: Datatypes\n",
      "['Dictionaries.md', 'Lists  - apply a function to all items in a list.md', 'Lists  - create an empty list of a certain size.md', 'Lists  - insert and take from lists.md', 'Lists - compare lists.md', 'Lists - enumerate.md', 'Lists - find in list.md', 'Lists - parsing lists from text files.md', 'Lists - sort lists.md', 'Named Tuples.md', 'Strings  - count occurences in a string.md', 'Strings - split into different parts.md']\n",
      "directory name: Machine Learning\n",
      "['index.md']\n",
      "directory name: Pandas\n",
      "['Pandas - 0 Load data.md', 'Pandas - 0b Deal with dates and geodata.md', 'Pandas - 0c Use feather.md', 'Pandas - 1 Describe and explore dataset.md', 'Pandas - 1b Deal with missing observations.md', 'Pandas - 1b2 Deal with duplicates.md', 'Pandas - 1b3 Deal with categorical data.md', 'Pandas - 1b4 Deal with missing rows.md', 'Pandas - 1c Select observations.md', 'Pandas - 1d1 Wrangle data 1 - Single rows, columns, or indices.md', 'Pandas - 1d2 Wrangle data 2 - Groupby and melt.md', 'Pandas - 1d3 Wrangle data 3 - Merge and combine datasets.md', 'Pandas - 1d4 Wrange data 4 - Specific receipes.md', 'Pandas - 1e Plot data.md']\n",
      "file name: Pandas.md\n",
      "directory name: Python\n",
      "[]\n",
      "directory name: random notes\n",
      "['APIs - Spotify.md', 'Conditions - check multiple conditions.md', 'Debugging - Assert.md', 'Discrete Optimization - Constraint Programming in MiniZinc.md', 'Functions  - Lambda expressions.md', 'Graphs  - Visualization and Exploration.md', 'Numpy - Mask arrays.md', 'Resources.md', 'scrap - binary tree in Python.md', 'Website - Building a website with Jekyll and Jupyter Notebooks.md']\n"
     ]
    }
   ],
   "source": [
    "# root directory\n",
    "p = os.listdir() # returns list\n",
    "p.remove('.obsidian')\n",
    "\n",
    "# go through the root list:\n",
    "for i in p:\n",
    "    if os.path.isdir(i): # i is a directory\n",
    "        print(f'directory name: {i}')\n",
    "        \n",
    "        # in the directory get a list of all files\n",
    "        inside = os.listdir(os.path.join(notes_abs, i)) # returns list\n",
    "        for count, value in enumerate(inside):\n",
    "            \n",
    "            value is the file name\n",
    "                decompose the file name into parts: section and title\n",
    "            \n",
    "            open the file and read the first line. \n",
    "                if the first line starts with {jpy-insert}, then this document is just a shell\n",
    "                run nb-convert and save the resulting file(s) in the jekyll folder\n",
    "            \n",
    "            open the file and add the header: insert the header parts (based on value, section, and title)\n",
    "\n",
    "    else: # i is a file\n",
    "        print(f'file name: {i}')"
   ]
  }
 ],
 "metadata": {
  "interpreter": {
   "hash": "a334c1fe54f244a1fde92eedeb414a1d64fadd29b6e64084917356ab7ee67439"
  },
  "kernelspec": {
   "display_name": "Python 3.8.5 ('causalml')",
   "language": "python",
   "name": "python3"
  },
  "language_info": {
   "codemirror_mode": {
    "name": "ipython",
    "version": 3
   },
   "file_extension": ".py",
   "mimetype": "text/x-python",
   "name": "python",
   "nbconvert_exporter": "python",
   "pygments_lexer": "ipython3",
   "version": "3.8.5"
  },
  "orig_nbformat": 4
 },
 "nbformat": 4,
 "nbformat_minor": 2
}
