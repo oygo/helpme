{
 "cells": [
  {
   "cell_type": "code",
   "execution_count": 1,
   "id": "73022842",
   "metadata": {
    "_cell_guid": "b1076dfc-b9ad-4769-8c92-a6c4dae69d19",
    "_uuid": "8f2839f25d086af736a60e9eeb907d3b93b6e0e5",
    "execution": {
     "iopub.execute_input": "2021-11-04T16:37:14.949758Z",
     "iopub.status.busy": "2021-11-04T16:37:14.948967Z",
     "iopub.status.idle": "2021-11-04T16:37:14.961420Z",
     "shell.execute_reply": "2021-11-04T16:37:14.960768Z",
     "shell.execute_reply.started": "2021-11-04T15:37:49.137640Z"
    },
    "papermill": {
     "duration": 0.055742,
     "end_time": "2021-11-04T16:37:14.961598",
     "exception": false,
     "start_time": "2021-11-04T16:37:14.905856",
     "status": "completed"
    },
    "tags": []
   },
   "outputs": [
    {
     "name": "stdout",
     "output_type": "stream",
     "text": [
      "/kaggle/input/healthinsurance/Health_insurance.csv\n"
     ]
    }
   ],
   "source": [
    "# This Python 3 environment comes with many helpful analytics libraries installed\n",
    "# It is defined by the kaggle/python Docker image: https://github.com/kaggle/docker-python\n",
    "# For example, here's several helpful packages to load\n",
    "\n",
    "import numpy as np # linear algebra\n",
    "import pandas as pd # data processing, CSV file I/O (e.g. pd.read_csv)\n",
    "\n",
    "# Input data files are available in the read-only \"../input/\" directory\n",
    "# For example, running this (by clicking run or pressing Shift+Enter) will list all files under the input directory\n",
    "\n",
    "import os\n",
    "for dirname, _, filenames in os.walk('/kaggle/input'):\n",
    "    for filename in filenames:\n",
    "        print(os.path.join(dirname, filename))\n",
    "\n",
    "# You can write up to 20GB to the current directory (/kaggle/working/) that gets preserved as output when you create a version using \"Save & Run All\" \n",
    "# You can also write temporary files to /kaggle/temp/, but they won't be saved outside of the current session"
   ]
  },
  {
   "cell_type": "markdown",
   "id": "f36cf6fd",
   "metadata": {
    "papermill": {
     "duration": 0.035841,
     "end_time": "2021-11-04T16:37:15.028232",
     "exception": false,
     "start_time": "2021-11-04T16:37:14.992391",
     "status": "completed"
    },
    "tags": []
   },
   "source": [
    "## 0. Helper functions"
   ]
  },
  {
   "cell_type": "code",
   "execution_count": 2,
   "id": "e6e199f8",
   "metadata": {
    "execution": {
     "iopub.execute_input": "2021-11-04T16:37:15.105905Z",
     "iopub.status.busy": "2021-11-04T16:37:15.100383Z",
     "iopub.status.idle": "2021-11-04T16:37:15.124824Z",
     "shell.execute_reply": "2021-11-04T16:37:15.124255Z",
     "shell.execute_reply.started": "2021-11-04T15:37:50.739705Z"
    },
    "papermill": {
     "duration": 0.061299,
     "end_time": "2021-11-04T16:37:15.124961",
     "exception": false,
     "start_time": "2021-11-04T16:37:15.063662",
     "status": "completed"
    },
    "tags": []
   },
   "outputs": [],
   "source": [
    "### NIKLAS' HELPER FUNCTIONS (copied from Costa Rica 2)\n",
    "\n",
    "\n",
    "## CATEGORIES\n",
    "# Dealing with categorical variables I: during data prep\n",
    "def train_cats(df, max_card=0, dep_var=None):\n",
    "    \"\"\"\n",
    "    Turns all string variables in df into categorical variables\n",
    "    optional parameters:\n",
    "    - max_card: also turns integer variables into categorical variables, when there are at most max_card different values in a given column\n",
    "    - dep_var: ingore the dependent variable in the processing\n",
    "    Output: a dataset, in which all string variables (and - if max_card is used - integers with a cardinality <= max_card) have been turned into categories.\n",
    "    Categorical variables still need to be turned into numbers before feeding the data to a model. This can be done using the function numericalise_cats()\n",
    "    \"\"\"\n",
    "    for n,c in df.items(): # n is the name of the column, c is the series\n",
    "        if n == dep_var: continue\n",
    "        if pd.api.types.is_string_dtype(df[n]) or (pd.api.types.is_integer_dtype(df[n]) and df[n].unique().shape[0] <= max_card): \n",
    "            df[n] = df[n].astype('category').cat.as_ordered()\n",
    "\n",
    "def apply_cats(df, trn):\n",
    "    \"\"\" \n",
    "    Transforms the test set to have the same categorical variables (and category codes) as the training set.\n",
    "    Output: a dataset, in which all string variables (and - if max_card is used - integers with a cardinality <= max_card) have been turned into categories.\n",
    "    Categorical variables still need to be turned into numbers before feeding the data to a model.\n",
    "    \"\"\"\n",
    "    for n,c in df.items():\n",
    "        if (n in trn.columns) and (trn[n].dtype.name=='category'):\n",
    "            df[n] = c.astype('category').cat.as_ordered()\n",
    "            df[n] = df[n].cat.set_categories(trn[n].cat.categories, ordered=True)\n",
    "            \n",
    "# Dealing with categorical variables II: just before sending the data to the model            \n",
    "def numericalise_cats(df):\n",
    "    \"\"\"\n",
    "    Transforms categorical into numerical columns\n",
    "    Returns a dictionary of dictionaries. In the big dictionary, each dictinary:\n",
    "        is named like the categorical variable, which has been transformed into numerical.\n",
    "        contains the mapping: left the new numerical variable, right the original category\n",
    "    \"\"\"\n",
    "    dictionary = {}\n",
    "    for c in df.columns:\n",
    "        if df[c].dtype.name == 'category':\n",
    "            # create the dictionary of mapping (https://stackoverflow.com/questions/30510562/get-mapping-of-categorical-variables-in-pandas)        \n",
    "            mapping = dict( enumerate(df[c].cat.categories ) )\n",
    "            dictionary[c] = mapping\n",
    "            # transform the categorical variable into a numerical variable\n",
    "            df[c] = df[c].cat.codes\n",
    "    return dictionary\n",
    "    \n",
    "# Dealing with categorical variables: helper function\n",
    "    # just print out lists: which variables are categorical and which ones are not\n",
    "    # use cont_cat_split(df_train, max_card=0, dep_var='Target') from the fastai.tabular.all Class\n",
    "    #from fastai.tabular.all import *\n",
    "    #cont_cat_split(df_train, max_card=0, dep_var='Target')\n",
    "\n",
    "## DATES\n",
    "# Deal with dates\n",
    "  #  use add_datepart() from the fastai.Tabular class. \n",
    "  #  by default add_datepart() also removes the data column, so it does not need to be removed before passing it onto the model\n",
    "# to add for future use: add_datepart() does not deal with missings https://stackoverflow.com/questions/43889611/median-of-panda-datetime64-column\n",
    "\n",
    "## MISSING VALLUES\n",
    "# Deal with missing values\n",
    "\n",
    "# in the training set\n",
    "def train_missings(df):\n",
    "    \"\"\"\n",
    "    For each NUMERICAL variable with missing values, creates a column to indicate observations which had a missing value in this column.\n",
    "    Then fills in the missing values with the column median. \n",
    "    Returns a dictionary with an entry for each column that had a missing, indicating the value which was filled in.\n",
    "    \"\"\"\n",
    "    #  create an indicator when the column has missing values\n",
    "    nas = {}\n",
    "    for col in df.columns:\n",
    "        if pd.api.types.is_numeric_dtype(df[col]) == False: continue # skip a column if it is not numerical\n",
    "        if df[col].isnull().sum() > 0: # if the are missing values in the column\n",
    "            df[str(col)+'_isna'] = df[col].isnull().astype(int) # create an indicator variable (equal 1 if the value is missing for the given observation)\n",
    "            df[col].fillna(df[col].median(),inplace=True) # fill in with median\n",
    "            nas[col] = df[col].median() # add to the dictionary of filled in values\n",
    "    return nas\n",
    "    #  fill with the median \n",
    "    #  return a dictionary of (1) the variables where missing values where filled and (2) the value which was filled in\n",
    "  # as features:\n",
    "    #  only create the indicator when a variable is missing and return a list of the columns which have missing values\n",
    "\n",
    "# in the test set\n",
    "def apply_missings(df, trn_dict, fill_other_missings=False):\n",
    "    # apply_missings(df, trn_dict, fill_other_missings=False)\n",
    "        # take a dataframe and a dictionary of columns and a fill value for each column\n",
    "        # for each entry in the dictionary, create an indicator variable\n",
    "        # for each entry in the dictionary, fill any missing observations with the value in the dictionary\n",
    "        # optional: if there are remaining variables which have missing values, then fill them with the median (without creating a missing variable)\n",
    "    \"\"\"\n",
    "    For each variable in the dictionary, creates a column to indicate observations which had a missing value in this column.\n",
    "    Then fills in the missing values with the value from the dictionary. \n",
    "    If fill_other_missings=True, then also fills in all other missing values (with the median of the dataset), but without creating an additional column.\n",
    "    \"\"\" \n",
    "    for col, na_value in trn_dict.items(): \n",
    "        df[str(col)+'_isna'] = df[col].isnull().astype(int) # create an indicator variable (equal 1 if the value is missing for the given observation)\n",
    "        df[col].fillna(na_value,inplace=True) # fill in missings with the value from the dictionary (change na_value to df[col].median() to fill in the median instead)\n",
    "    if fill_other_missings==True:\n",
    "        for col in detect_missings(df):\n",
    "            df[col].fillna(df[col].median(),inplace=True) # fill in missings with median\n",
    "\n",
    "            # helper function            \n",
    "def detect_missings(df):\n",
    "    # detect_missings(df)\n",
    "    # return a list of all columns which have missing variables\n",
    "    \"\"\"\n",
    "    Returns a list with all columns which have missing values\n",
    "    \"\"\"\n",
    "    missings = []\n",
    "    for col in df.columns:\n",
    "        if df[col].isnull().sum() > 0: missings.append(col)\n",
    "    return missings"
   ]
  },
  {
   "cell_type": "code",
   "execution_count": 3,
   "id": "ef992019",
   "metadata": {
    "execution": {
     "iopub.execute_input": "2021-11-04T16:37:15.184800Z",
     "iopub.status.busy": "2021-11-04T16:37:15.183889Z",
     "iopub.status.idle": "2021-11-04T16:37:15.202304Z",
     "shell.execute_reply": "2021-11-04T16:37:15.202894Z",
     "shell.execute_reply.started": "2021-11-04T16:36:47.168997Z"
    },
    "papermill": {
     "duration": 0.049805,
     "end_time": "2021-11-04T16:37:15.203071",
     "exception": false,
     "start_time": "2021-11-04T16:37:15.153266",
     "status": "completed"
    },
    "tags": []
   },
   "outputs": [],
   "source": [
    "df_train = pd.read_csv('../input/healthinsurance/Health_insurance.csv')"
   ]
  },
  {
   "cell_type": "code",
   "execution_count": 4,
   "id": "b3e70da3",
   "metadata": {
    "execution": {
     "iopub.execute_input": "2021-11-04T16:37:15.268795Z",
     "iopub.status.busy": "2021-11-04T16:37:15.268029Z",
     "iopub.status.idle": "2021-11-04T16:37:15.280867Z",
     "shell.execute_reply": "2021-11-04T16:37:15.281463Z",
     "shell.execute_reply.started": "2021-11-04T15:37:53.855584Z"
    },
    "papermill": {
     "duration": 0.050111,
     "end_time": "2021-11-04T16:37:15.281628",
     "exception": false,
     "start_time": "2021-11-04T16:37:15.231517",
     "status": "completed"
    },
    "tags": []
   },
   "outputs": [],
   "source": [
    "train_cats(df_train)\n",
    "nas = train_missings(df_train)\n",
    "translation = numericalise_cats(df_train)"
   ]
  },
  {
   "cell_type": "markdown",
   "id": "dcee37ae",
   "metadata": {
    "papermill": {
     "duration": 0.027657,
     "end_time": "2021-11-04T16:37:15.337293",
     "exception": false,
     "start_time": "2021-11-04T16:37:15.309636",
     "status": "completed"
    },
    "tags": []
   },
   "source": [
    "## 1. Building (a good) random forest"
   ]
  },
  {
   "cell_type": "markdown",
   "id": "39b2c4f8",
   "metadata": {
    "papermill": {
     "duration": 0.028221,
     "end_time": "2021-11-04T16:37:15.393318",
     "exception": false,
     "start_time": "2021-11-04T16:37:15.365097",
     "status": "completed"
    },
    "tags": []
   },
   "source": [
    "#### 1.1 just check everything works"
   ]
  },
  {
   "cell_type": "code",
   "execution_count": 5,
   "id": "4993130b",
   "metadata": {
    "execution": {
     "iopub.execute_input": "2021-11-04T16:37:15.453238Z",
     "iopub.status.busy": "2021-11-04T16:37:15.452295Z",
     "iopub.status.idle": "2021-11-04T16:37:17.064651Z",
     "shell.execute_reply": "2021-11-04T16:37:17.064071Z",
     "shell.execute_reply.started": "2021-11-04T15:48:52.940923Z"
    },
    "papermill": {
     "duration": 1.643215,
     "end_time": "2021-11-04T16:37:17.064795",
     "exception": false,
     "start_time": "2021-11-04T16:37:15.421580",
     "status": "completed"
    },
    "tags": []
   },
   "outputs": [
    {
     "name": "stdout",
     "output_type": "stream",
     "text": [
      "CPU times: user 510 ms, sys: 43.6 ms, total: 553 ms\n",
      "Wall time: 361 ms\n"
     ]
    },
    {
     "data": {
      "text/plain": [
       "0.9765906996568695"
      ]
     },
     "execution_count": 5,
     "metadata": {},
     "output_type": "execute_result"
    }
   ],
   "source": [
    "from sklearn.ensemble import RandomForestRegressor, RandomForestClassifier\n",
    "\n",
    "m = RandomForestRegressor(n_jobs=-1)\n",
    "# m = RandomForestRegressor(n_estimators=100, max_depth=5, bootstrap=True, n_jobs=-1, oob_score=True)\n",
    "\n",
    "%time m.fit(df_train.drop(['charges'], axis=1), df_train.charges)\n",
    "m.score(df_train.drop(['charges'], axis=1), df_train.charges)"
   ]
  },
  {
   "cell_type": "markdown",
   "id": "4e20df0a",
   "metadata": {
    "papermill": {
     "duration": 0.028987,
     "end_time": "2021-11-04T16:37:17.123082",
     "exception": false,
     "start_time": "2021-11-04T16:37:17.094095",
     "status": "completed"
    },
    "tags": []
   },
   "source": [
    "#### 1.2 do it properly: test and validation set"
   ]
  },
  {
   "cell_type": "code",
   "execution_count": 6,
   "id": "cb675b9a",
   "metadata": {
    "execution": {
     "iopub.execute_input": "2021-11-04T16:37:17.187502Z",
     "iopub.status.busy": "2021-11-04T16:37:17.186501Z",
     "iopub.status.idle": "2021-11-04T16:37:17.188736Z",
     "shell.execute_reply": "2021-11-04T16:37:17.189177Z",
     "shell.execute_reply.started": "2021-11-04T15:38:22.630268Z"
    },
    "papermill": {
     "duration": 0.037409,
     "end_time": "2021-11-04T16:37:17.189371",
     "exception": false,
     "start_time": "2021-11-04T16:37:17.151962",
     "status": "completed"
    },
    "tags": []
   },
   "outputs": [],
   "source": [
    "# define a function to easily evaluate the performance of a random forest\n",
    "def print_score(m):\n",
    "    res = [m.score(df_tra.drop(['charges'], axis=1), df_tra.charges), m.score(df_val.drop(['charges'], axis=1), df_val.charges)]\n",
    "    if hasattr(m, 'oob_score_'): res.append(m.oob_score_)\n",
    "    print(res)"
   ]
  },
  {
   "cell_type": "code",
   "execution_count": 7,
   "id": "8075e2f7",
   "metadata": {
    "execution": {
     "iopub.execute_input": "2021-11-04T16:37:17.257250Z",
     "iopub.status.busy": "2021-11-04T16:37:17.254360Z",
     "iopub.status.idle": "2021-11-04T16:37:17.268451Z",
     "shell.execute_reply": "2021-11-04T16:37:17.269017Z",
     "shell.execute_reply.started": "2021-11-04T15:41:05.492540Z"
    },
    "papermill": {
     "duration": 0.050594,
     "end_time": "2021-11-04T16:37:17.269184",
     "exception": false,
     "start_time": "2021-11-04T16:37:17.218590",
     "status": "completed"
    },
    "tags": []
   },
   "outputs": [
    {
     "name": "stdout",
     "output_type": "stream",
     "text": [
      "<class 'pandas.core.frame.DataFrame'>\n",
      "RangeIndex: 1338 entries, 0 to 1337\n",
      "Data columns (total 7 columns):\n",
      " #   Column    Non-Null Count  Dtype  \n",
      "---  ------    --------------  -----  \n",
      " 0   age       1338 non-null   int64  \n",
      " 1   sex       1338 non-null   int8   \n",
      " 2   bmi       1338 non-null   float64\n",
      " 3   children  1338 non-null   int64  \n",
      " 4   smoker    1338 non-null   int8   \n",
      " 5   region    1338 non-null   int8   \n",
      " 6   charges   1338 non-null   float64\n",
      "dtypes: float64(2), int64(2), int8(3)\n",
      "memory usage: 45.9 KB\n",
      "None\n"
     ]
    }
   ],
   "source": [
    "# split into training and validation set\n",
    "\n",
    "# 1ST FIRST APPROACH: MANUALLY\n",
    "print(df_train.info())\n",
    "def split_vals(a,n): return a[:n].copy(), a[n:].copy()\n",
    "df_tra, df_val = split_vals(df_train, 1050)\n",
    "X_tra = df_tra.drop(['charges'], axis=1)\n",
    "y_tra = df_tra['charges']\n",
    "X_val = df_val.drop(['charges'], axis=1)\n",
    "y_val = df_val['charges']\n",
    "\n",
    "# 2ND APPROACH: USING SKLEARN\n",
    "#from sklearn.model_selection import train_test_split \n",
    "#X_tra, X_val, y_tra, y_val = train_test_split(df_train.drop(['charges'], axis=1), df_train.charges, test_size=0.2, random_state=42)"
   ]
  },
  {
   "cell_type": "code",
   "execution_count": 8,
   "id": "d586f5d3",
   "metadata": {
    "execution": {
     "iopub.execute_input": "2021-11-04T16:37:17.330391Z",
     "iopub.status.busy": "2021-11-04T16:37:17.329406Z",
     "iopub.status.idle": "2021-11-04T16:37:17.901068Z",
     "shell.execute_reply": "2021-11-04T16:37:17.900519Z",
     "shell.execute_reply.started": "2021-11-04T16:20:14.680001Z"
    },
    "papermill": {
     "duration": 0.603788,
     "end_time": "2021-11-04T16:37:17.901228",
     "exception": false,
     "start_time": "2021-11-04T16:37:17.297440",
     "status": "completed"
    },
    "tags": []
   },
   "outputs": [
    {
     "name": "stdout",
     "output_type": "stream",
     "text": [
      "[0.9757428394516634, 0.8486700300564454]\n"
     ]
    }
   ],
   "source": [
    "# Now train a forest on the training data and measure its performance on the validation data\n",
    "\n",
    "m.fit(df_tra.drop(['charges'], axis=1), df_tra.charges)\n",
    "\n",
    "print_score(m) # we are overfitting badly: there is quite a difference between training and validation set"
   ]
  },
  {
   "cell_type": "code",
   "execution_count": 9,
   "id": "d71071be",
   "metadata": {
    "execution": {
     "iopub.execute_input": "2021-11-04T16:37:17.966331Z",
     "iopub.status.busy": "2021-11-04T16:37:17.965525Z",
     "iopub.status.idle": "2021-11-04T16:37:17.968214Z",
     "shell.execute_reply": "2021-11-04T16:37:17.968767Z",
     "shell.execute_reply.started": "2021-11-04T15:52:50.559739Z"
    },
    "papermill": {
     "duration": 0.038945,
     "end_time": "2021-11-04T16:37:17.968931",
     "exception": false,
     "start_time": "2021-11-04T16:37:17.929986",
     "status": "completed"
    },
    "tags": []
   },
   "outputs": [
    {
     "data": {
      "text/plain": [
       "{'bootstrap': True,\n",
       " 'ccp_alpha': 0.0,\n",
       " 'criterion': 'mse',\n",
       " 'max_depth': None,\n",
       " 'max_features': 'auto',\n",
       " 'max_leaf_nodes': None,\n",
       " 'max_samples': None,\n",
       " 'min_impurity_decrease': 0.0,\n",
       " 'min_impurity_split': None,\n",
       " 'min_samples_leaf': 1,\n",
       " 'min_samples_split': 2,\n",
       " 'min_weight_fraction_leaf': 0.0,\n",
       " 'n_estimators': 100,\n",
       " 'n_jobs': -1,\n",
       " 'oob_score': False,\n",
       " 'random_state': None,\n",
       " 'verbose': 0,\n",
       " 'warm_start': False}"
      ]
     },
     "execution_count": 9,
     "metadata": {},
     "output_type": "execute_result"
    }
   ],
   "source": [
    "m.get_params() # get the hyperparameters of the trained model"
   ]
  },
  {
   "cell_type": "markdown",
   "id": "932c595f",
   "metadata": {
    "papermill": {
     "duration": 0.029645,
     "end_time": "2021-11-04T16:37:18.028954",
     "exception": false,
     "start_time": "2021-11-04T16:37:17.999309",
     "status": "completed"
    },
    "tags": []
   },
   "source": [
    "#### 1.3 Tune parameters"
   ]
  },
  {
   "cell_type": "markdown",
   "id": "8b4a60f1",
   "metadata": {
    "execution": {
     "iopub.execute_input": "2021-11-04T15:55:54.629734Z",
     "iopub.status.busy": "2021-11-04T15:55:54.629440Z",
     "iopub.status.idle": "2021-11-04T15:55:54.633976Z",
     "shell.execute_reply": "2021-11-04T15:55:54.633284Z",
     "shell.execute_reply.started": "2021-11-04T15:55:54.629703Z"
    },
    "papermill": {
     "duration": 0.029621,
     "end_time": "2021-11-04T16:37:18.087951",
     "exception": false,
     "start_time": "2021-11-04T16:37:18.058330",
     "status": "completed"
    },
    "tags": []
   },
   "source": [
    "##### 1.3.a Motivation/Just for fun: how many trees should the forest have?"
   ]
  },
  {
   "cell_type": "code",
   "execution_count": 10,
   "id": "b2785d13",
   "metadata": {
    "execution": {
     "iopub.execute_input": "2021-11-04T16:37:18.157553Z",
     "iopub.status.busy": "2021-11-04T16:37:18.156598Z",
     "iopub.status.idle": "2021-11-04T16:37:18.160455Z",
     "shell.execute_reply": "2021-11-04T16:37:18.159831Z",
     "shell.execute_reply.started": "2021-11-04T15:43:53.126714Z"
    },
    "papermill": {
     "duration": 0.04251,
     "end_time": "2021-11-04T16:37:18.160603",
     "exception": false,
     "start_time": "2021-11-04T16:37:18.118093",
     "status": "completed"
    },
    "tags": []
   },
   "outputs": [
    {
     "data": {
      "text/plain": [
       "(288,)"
      ]
     },
     "execution_count": 10,
     "metadata": {},
     "output_type": "execute_result"
    }
   ],
   "source": [
    "m.estimators_[0].predict(df_val.drop(['charges'], axis=1)).shape"
   ]
  },
  {
   "cell_type": "code",
   "execution_count": 11,
   "id": "822ae2a4",
   "metadata": {
    "execution": {
     "iopub.execute_input": "2021-11-04T16:37:18.225964Z",
     "iopub.status.busy": "2021-11-04T16:37:18.222993Z",
     "iopub.status.idle": "2021-11-04T16:37:18.414007Z",
     "shell.execute_reply": "2021-11-04T16:37:18.414549Z",
     "shell.execute_reply.started": "2021-11-04T15:49:07.495455Z"
    },
    "papermill": {
     "duration": 0.224251,
     "end_time": "2021-11-04T16:37:18.414728",
     "exception": false,
     "start_time": "2021-11-04T16:37:18.190477",
     "status": "completed"
    },
    "tags": []
   },
   "outputs": [
    {
     "data": {
      "text/plain": [
       "(array([ 7731.85785,  7152.6714 ,  7421.19455,  7518.02535,  7345.7266 ,\n",
       "         6948.7008 , 12797.20962, 12797.20962, 12797.20962,  7740.337  ,\n",
       "         7152.6714 ,  7731.85785,  7421.19455,  7152.6714 ,  8116.26885,\n",
       "         6948.7008 ,  7731.85785,  7345.7266 ,  6948.7008 , 28476.73499,\n",
       "         7633.7206 , 12797.20962, 12797.20962,  7152.6714 ,  7152.6714 ,\n",
       "         8823.98575, 12797.20962, 19144.57652, 12797.20962,  7731.85785,\n",
       "         7935.29115, 12797.20962, 28340.18885, 12797.20962,  8569.8618 ,\n",
       "         7421.19455,  7152.6714 ,  6948.7008 ,  7633.7206 ,  7152.6714 ,\n",
       "         7633.7206 ,  7152.6714 ,  9704.66805,  6948.7008 ,  9704.66805,\n",
       "         7633.7206 ,  7443.64305, 12797.20962, 12797.20962,  7152.6714 ,\n",
       "        28468.91901,  7443.64305,  7731.85785,  7358.17565, 11033.6617 ,\n",
       "         6948.7008 ,  7152.6714 ,  7731.85785, 12797.20962, 28468.91901,\n",
       "         7265.7025 , 28468.91901,  7633.7206 ,  7740.337  ,  7731.85785,\n",
       "         8116.26885,  7740.337  ,  7345.7266 , 12797.20962,  7421.19455,\n",
       "        12797.20962, 28340.18885, 10848.1343 ,  7345.7266 ,  7152.6714 ,\n",
       "         8569.8618 ,  8569.8618 ,  8116.26885,  7152.6714 ,  7152.6714 ,\n",
       "        28340.18885,  8556.907  , 28340.18885, 28340.18885,  7633.7206 ,\n",
       "        19144.57652, 12797.20962, 32108.66282,  6600.20595, 28340.18885,\n",
       "         7345.7266 , 12797.20962,  7152.6714 ,  7633.7206 , 10848.1343 ,\n",
       "         7152.6714 , 28340.18885,  8116.26885,  7345.7266 ,  7345.7266 ]),\n",
       " 11275.446907500002,\n",
       " 8023.13545)"
      ]
     },
     "execution_count": 11,
     "metadata": {},
     "output_type": "execute_result"
    }
   ],
   "source": [
    "preds = np.stack([t.predict(df_val.drop(['charges'], axis=1)) for t in m.estimators_])\n",
    "preds[:,0], np.mean(preds[:,0]), df_val.charges.iloc[0]"
   ]
  },
  {
   "cell_type": "code",
   "execution_count": 12,
   "id": "60a35117",
   "metadata": {
    "execution": {
     "iopub.execute_input": "2021-11-04T16:37:18.481753Z",
     "iopub.status.busy": "2021-11-04T16:37:18.481090Z",
     "iopub.status.idle": "2021-11-04T16:37:18.483507Z",
     "shell.execute_reply": "2021-11-04T16:37:18.483985Z",
     "shell.execute_reply.started": "2021-11-04T15:44:14.439635Z"
    },
    "papermill": {
     "duration": 0.038357,
     "end_time": "2021-11-04T16:37:18.484145",
     "exception": false,
     "start_time": "2021-11-04T16:37:18.445788",
     "status": "completed"
    },
    "tags": []
   },
   "outputs": [
    {
     "data": {
      "text/plain": [
       "(100, 288)"
      ]
     },
     "execution_count": 12,
     "metadata": {},
     "output_type": "execute_result"
    }
   ],
   "source": [
    "preds.shape"
   ]
  },
  {
   "cell_type": "code",
   "execution_count": 13,
   "id": "9939f4da",
   "metadata": {
    "execution": {
     "iopub.execute_input": "2021-11-04T16:37:18.552318Z",
     "iopub.status.busy": "2021-11-04T16:37:18.551708Z",
     "iopub.status.idle": "2021-11-04T16:37:18.808436Z",
     "shell.execute_reply": "2021-11-04T16:37:18.807216Z",
     "shell.execute_reply.started": "2021-11-04T15:50:05.117509Z"
    },
    "papermill": {
     "duration": 0.293152,
     "end_time": "2021-11-04T16:37:18.808619",
     "exception": false,
     "start_time": "2021-11-04T16:37:18.515467",
     "status": "completed"
    },
    "tags": []
   },
   "outputs": [
    {
     "data": {
      "image/png": "[encoded data removed]",
      "text/plain": [
       "<Figure size 432x288 with 1 Axes>"
      ]
     },
     "metadata": {
      "needs_background": "light"
     },
     "output_type": "display_data"
    }
   ],
   "source": [
    "import matplotlib.pyplot as plt\n",
    "from sklearn import metrics\n",
    "plt.plot([metrics.r2_score(y_val, np.mean(preds[:i+1], axis=0)) for i in range(100)]);"
   ]
  },
  {
   "cell_type": "markdown",
   "id": "b09ccee5",
   "metadata": {
    "execution": {
     "iopub.execute_input": "2021-11-04T16:14:25.111177Z",
     "iopub.status.busy": "2021-11-04T16:14:25.110411Z",
     "iopub.status.idle": "2021-11-04T16:14:25.116019Z",
     "shell.execute_reply": "2021-11-04T16:14:25.115133Z",
     "shell.execute_reply.started": "2021-11-04T16:14:25.111131Z"
    },
    "papermill": {
     "duration": 0.031087,
     "end_time": "2021-11-04T16:37:18.872286",
     "exception": false,
     "start_time": "2021-11-04T16:37:18.841199",
     "status": "completed"
    },
    "tags": []
   },
   "source": [
    "##### 1.3.b Now do the tuning properly: GridSearch and Randomized Search"
   ]
  },
  {
   "cell_type": "code",
   "execution_count": 14,
   "id": "de358e0d",
   "metadata": {
    "execution": {
     "iopub.execute_input": "2021-11-04T16:37:18.938696Z",
     "iopub.status.busy": "2021-11-04T16:37:18.938050Z",
     "iopub.status.idle": "2021-11-04T16:37:18.945161Z",
     "shell.execute_reply": "2021-11-04T16:37:18.945641Z",
     "shell.execute_reply.started": "2021-10-25T12:14:21.619577Z"
    },
    "papermill": {
     "duration": 0.041761,
     "end_time": "2021-11-04T16:37:18.945791",
     "exception": false,
     "start_time": "2021-11-04T16:37:18.904030",
     "status": "completed"
    },
    "tags": []
   },
   "outputs": [],
   "source": [
    "from sklearn.model_selection import RandomizedSearchCV, GridSearchCV\n",
    "\n",
    "### CREATE THE GRID\n",
    "\n",
    "# Number of trees in random forest\n",
    "n_estimators = [int(x) for x in np.linspace(start = 1, stop = 100, num = 10)]\n",
    "# Number of features to consider at every split\n",
    "max_features = ['auto', 'sqrt']\n",
    "# Maximum number of levels in tree\n",
    "max_depth = [int(x) for x in np.linspace(3, 30, num = 1)]\n",
    "max_depth.append(None)\n",
    "# Minimum number of samples required to split a node\n",
    "min_samples_split = [2, 5, 10, 15, 20]\n",
    "# Minimum number of samples required at each leaf node\n",
    "min_samples_leaf = [1, 2, 5, 10, 15, 20]\n",
    "# Method of selecting samples for training each tree\n",
    "bootstrap = [True, False]\n",
    "# Create the grid\n",
    "grid = {'n_estimators': n_estimators,\n",
    "               'max_features': max_features,\n",
    "               'max_depth': max_depth,\n",
    "               'min_samples_split': min_samples_split,\n",
    "               'min_samples_leaf': min_samples_leaf,\n",
    "               'bootstrap': bootstrap}"
   ]
  },
  {
   "cell_type": "code",
   "execution_count": 15,
   "id": "7379b3a5",
   "metadata": {
    "execution": {
     "iopub.execute_input": "2021-11-04T16:37:19.010723Z",
     "iopub.status.busy": "2021-11-04T16:37:19.010122Z",
     "iopub.status.idle": "2021-11-04T16:38:08.612417Z",
     "shell.execute_reply": "2021-11-04T16:38:08.612926Z",
     "shell.execute_reply.started": "2021-10-25T12:14:26.212716Z"
    },
    "papermill": {
     "duration": 49.637041,
     "end_time": "2021-11-04T16:38:08.613103",
     "exception": false,
     "start_time": "2021-11-04T16:37:18.976062",
     "status": "completed"
    },
    "tags": []
   },
   "outputs": [
    {
     "data": {
      "text/plain": [
       "RandomizedSearchCV(cv=5, estimator=RandomForestRegressor(), n_iter=200,\n",
       "                   n_jobs=-1,\n",
       "                   param_distributions={'bootstrap': [True, False],\n",
       "                                        'max_depth': [3, None],\n",
       "                                        'max_features': ['auto', 'sqrt'],\n",
       "                                        'min_samples_leaf': [1, 2, 5, 10, 15,\n",
       "                                                             20],\n",
       "                                        'min_samples_split': [2, 5, 10, 15, 20],\n",
       "                                        'n_estimators': [1, 12, 23, 34, 45, 56,\n",
       "                                                         67, 78, 89, 100]},\n",
       "                   random_state=42)"
      ]
     },
     "execution_count": 15,
     "metadata": {},
     "output_type": "execute_result"
    }
   ],
   "source": [
    "### RANDOM SEARCH\n",
    "\n",
    "# specify the model to tune and the search to perform\n",
    "rf = RandomForestRegressor() # model to tune\n",
    "rf_random = RandomizedSearchCV(estimator = rf, param_distributions = grid, n_iter = 200, cv = 5, random_state=42, n_jobs = -1) # search across 200 different combinations\n",
    "\n",
    "# conduct the search: fit the model\n",
    "rf_random.fit(df_train.drop(['charges'], axis=1), df_train.charges)"
   ]
  },
  {
   "cell_type": "code",
   "execution_count": 16,
   "id": "5c3b4cee",
   "metadata": {
    "execution": {
     "iopub.execute_input": "2021-11-04T16:38:08.685625Z",
     "iopub.status.busy": "2021-11-04T16:38:08.685012Z",
     "iopub.status.idle": "2021-11-04T16:38:08.712998Z",
     "shell.execute_reply": "2021-11-04T16:38:08.712491Z",
     "shell.execute_reply.started": "2021-10-25T12:15:40.082379Z"
    },
    "papermill": {
     "duration": 0.067437,
     "end_time": "2021-11-04T16:38:08.713135",
     "exception": false,
     "start_time": "2021-11-04T16:38:08.645698",
     "status": "completed"
    },
    "tags": []
   },
   "outputs": [
    {
     "name": "stdout",
     "output_type": "stream",
     "text": [
      "{'n_estimators': 89, 'min_samples_split': 15, 'min_samples_leaf': 15, 'max_features': 'auto', 'max_depth': None, 'bootstrap': True}\n",
      "[0.8799375454587466, 0.8998586420974982]\n"
     ]
    }
   ],
   "source": [
    "print(rf_random.best_params_)\n",
    "print_score(rf_random)"
   ]
  },
  {
   "cell_type": "code",
   "execution_count": 17,
   "id": "9c16b736",
   "metadata": {
    "execution": {
     "iopub.execute_input": "2021-11-04T16:38:08.785830Z",
     "iopub.status.busy": "2021-11-04T16:38:08.784884Z",
     "iopub.status.idle": "2021-11-04T16:46:55.505959Z",
     "shell.execute_reply": "2021-11-04T16:46:55.506487Z",
     "shell.execute_reply.started": "2021-10-25T12:16:14.282753Z"
    },
    "papermill": {
     "duration": 526.760971,
     "end_time": "2021-11-04T16:46:55.506668",
     "exception": false,
     "start_time": "2021-11-04T16:38:08.745697",
     "status": "completed"
    },
    "tags": []
   },
   "outputs": [
    {
     "data": {
      "text/plain": [
       "GridSearchCV(cv=5, estimator=RandomForestRegressor(), n_jobs=-1,\n",
       "             param_grid={'bootstrap': [True, False], 'max_depth': [3, None],\n",
       "                         'max_features': ['auto', 'sqrt'],\n",
       "                         'min_samples_leaf': [1, 2, 5, 10, 15, 20],\n",
       "                         'min_samples_split': [2, 5, 10, 15, 20],\n",
       "                         'n_estimators': [1, 12, 23, 34, 45, 56, 67, 78, 89,\n",
       "                                          100]})"
      ]
     },
     "execution_count": 17,
     "metadata": {},
     "output_type": "execute_result"
    }
   ],
   "source": [
    "### EXHAUSTIVE SEARCH\n",
    "\n",
    "# specify the model to tune and the search to perform\n",
    "rf = RandomForestRegressor() # model to tune\n",
    "rf_random = GridSearchCV(estimator = rf, param_grid = grid, cv = 5, n_jobs = -1) # search across all combinations\n",
    "\n",
    "# conduct the search: fit the model\n",
    "rf_random.fit(df_train.drop(['charges'], axis=1), df_train.charges)"
   ]
  },
  {
   "cell_type": "code",
   "execution_count": 18,
   "id": "e3a36a55",
   "metadata": {
    "execution": {
     "iopub.execute_input": "2021-11-04T16:46:55.580850Z",
     "iopub.status.busy": "2021-11-04T16:46:55.579860Z",
     "iopub.status.idle": "2021-11-04T16:46:55.596314Z",
     "shell.execute_reply": "2021-11-04T16:46:55.597269Z",
     "shell.execute_reply.started": "2021-10-25T12:20:06.063827Z"
    },
    "papermill": {
     "duration": 0.057786,
     "end_time": "2021-11-04T16:46:55.597577",
     "exception": false,
     "start_time": "2021-11-04T16:46:55.539791",
     "status": "completed"
    },
    "tags": []
   },
   "outputs": [
    {
     "name": "stdout",
     "output_type": "stream",
     "text": [
      "{'bootstrap': True, 'max_depth': None, 'max_features': 'auto', 'min_samples_leaf': 15, 'min_samples_split': 20, 'n_estimators': 34}\n",
      "[0.8801420527414978, 0.9002751059128307]\n"
     ]
    }
   ],
   "source": [
    "print(rf_random.best_params_)\n",
    "print_score(rf_random)"
   ]
  },
  {
   "cell_type": "markdown",
   "id": "64954752",
   "metadata": {
    "papermill": {
     "duration": 0.033584,
     "end_time": "2021-11-04T16:46:55.666170",
     "exception": false,
     "start_time": "2021-11-04T16:46:55.632586",
     "status": "completed"
    },
    "tags": []
   },
   "source": [
    "## 2. Interpreting the random forest, part I (plotting trees)"
   ]
  },
  {
   "cell_type": "markdown",
   "id": "92129829",
   "metadata": {
    "papermill": {
     "duration": 0.033211,
     "end_time": "2021-11-04T16:46:55.732550",
     "exception": false,
     "start_time": "2021-11-04T16:46:55.699339",
     "status": "completed"
    },
    "tags": []
   },
   "source": [
    "in this section, I will only use the variable m2 denote a model/forest. The old model from above (named 'm') will stay intact. I will return to it in section 3."
   ]
  },
  {
   "cell_type": "markdown",
   "id": "196d248c",
   "metadata": {
    "papermill": {
     "duration": 0.03323,
     "end_time": "2021-11-04T16:46:55.799019",
     "exception": false,
     "start_time": "2021-11-04T16:46:55.765789",
     "status": "completed"
    },
    "tags": []
   },
   "source": [
    "### Plot a tree (using the approach from fast.ai)\n",
    "\n",
    "to plot a tree here, use the function draw_tree()   \n",
    "the function needs to be passed one tree, of limited complexity (i.e. max_depth=3). If the complexity is higher, the tree becomes impossible to read"
   ]
  },
  {
   "cell_type": "code",
   "execution_count": 19,
   "id": "223fe449",
   "metadata": {
    "execution": {
     "iopub.execute_input": "2021-11-04T16:46:55.868731Z",
     "iopub.status.busy": "2021-11-04T16:46:55.868026Z",
     "iopub.status.idle": "2021-11-04T16:46:55.887226Z",
     "shell.execute_reply": "2021-11-04T16:46:55.886570Z",
     "shell.execute_reply.started": "2021-11-04T16:23:16.763296Z"
    },
    "papermill": {
     "duration": 0.054371,
     "end_time": "2021-11-04T16:46:55.887365",
     "exception": false,
     "start_time": "2021-11-04T16:46:55.832994",
     "status": "completed"
    },
    "tags": []
   },
   "outputs": [],
   "source": [
    "from IPython.core.display import display\n",
    "import re\n",
    "from sklearn.tree import export_graphviz\n",
    "import graphviz \n",
    "\n",
    "def draw_tree(t, df, size=10, ratio=0.6, precision=0):\n",
    "    \"\"\" Draws a representation of a random forest in IPython.\n",
    "    Parameters:\n",
    "    -----------\n",
    "    t: The tree you wish to draw\n",
    "    df: The data used to train the tree. This is used to get the names of the features.\n",
    "    \"\"\"\n",
    "    s=export_graphviz(t, out_file=None, feature_names=df.columns, filled=True,\n",
    "                      special_characters=True, rotate=True, precision=precision)\n",
    "    display(graphviz.Source(re.sub('Tree {',\n",
    "       f'Tree {{ size={size}; ratio={ratio}', s)))"
   ]
  },
  {
   "cell_type": "code",
   "execution_count": 20,
   "id": "2bde32c6",
   "metadata": {
    "execution": {
     "iopub.execute_input": "2021-11-04T16:46:55.968724Z",
     "iopub.status.busy": "2021-11-04T16:46:55.967969Z",
     "iopub.status.idle": "2021-11-04T16:46:56.981706Z",
     "shell.execute_reply": "2021-11-04T16:46:56.982223Z",
     "shell.execute_reply.started": "2021-11-04T16:24:33.188692Z"
    },
    "papermill": {
     "duration": 1.06195,
     "end_time": "2021-11-04T16:46:56.982419",
     "exception": false,
     "start_time": "2021-11-04T16:46:55.920469",
     "status": "completed"
    },
    "tags": []
   },
   "outputs": [
    {
     "data": {
      "image/svg+xml": [
       "<?xml version=\"1.0\" encoding=\"UTF-8\" standalone=\"no\"?>\n",
       "<!DOCTYPE svg PUBLIC \"-//W3C//DTD SVG 1.1//EN\"\n",
       " \"http://www.w3.org/Graphics/SVG/1.1/DTD/svg11.dtd\">\n",
       "<!-- Generated by graphviz version 2.49.0 (20210829.0051)\n",
       " -->\n",
       "<!-- Title: Tree Pages: 1 -->\n",
       "<svg width=\"720pt\" height=\"434pt\"\n",
       " viewBox=\"0.00 0.00 720.00 434.49\" xmlns=\"http://www.w3.org/2000/svg\" xmlns:xlink=\"http://www.w3.org/1999/xlink\">\n",
       "<g id=\"graph0\" class=\"graph\" transform=\"scale(0.78 0.78) rotate(0) translate(4 554)\">\n",
       "<title>Tree</title>\n",
       "<polygon fill=\"white\" stroke=\"transparent\" points=\"-4,4 -4,-554 920.67,-554 920.67,4 -4,4\"/>\n",
       "<!-- 0 -->\n",
       "<g id=\"node1\" class=\"node\">\n",
       "<title>0</title>\n",
       "<polygon fill=\"#f9e4d5\" stroke=\"black\" points=\"191.17,-336.5 12.17,-336.5 12.17,-268.5 191.17,-268.5 191.17,-336.5\"/>\n",
       "<text text-anchor=\"start\" x=\"53.17\" y=\"-321.3\" font-family=\"Times,serif\" font-size=\"14.00\">smoker ≤ 0.5</text>\n",
       "<text text-anchor=\"start\" x=\"20.17\" y=\"-306.3\" font-family=\"Times,serif\" font-size=\"14.00\">mse = 158689319.997</text>\n",
       "<text text-anchor=\"start\" x=\"48.17\" y=\"-291.3\" font-family=\"Times,serif\" font-size=\"14.00\">samples = 649</text>\n",
       "<text text-anchor=\"start\" x=\"33.67\" y=\"-276.3\" font-family=\"Times,serif\" font-size=\"14.00\">value = 13877.262</text>\n",
       "</g>\n",
       "<!-- 1 -->\n",
       "<g id=\"node2\" class=\"node\">\n",
       "<title>1</title>\n",
       "<polygon fill=\"#fdf3ec\" stroke=\"black\" points=\"431.67,-372.5 261.67,-372.5 261.67,-304.5 431.67,-304.5 431.67,-372.5\"/>\n",
       "<text text-anchor=\"start\" x=\"307.17\" y=\"-357.3\" font-family=\"Times,serif\" font-size=\"14.00\">age ≤ 42.5</text>\n",
       "<text text-anchor=\"start\" x=\"269.67\" y=\"-342.3\" font-family=\"Times,serif\" font-size=\"14.00\">mse = 37882887.086</text>\n",
       "<text text-anchor=\"start\" x=\"293.17\" y=\"-327.3\" font-family=\"Times,serif\" font-size=\"14.00\">samples = 512</text>\n",
       "<text text-anchor=\"start\" x=\"283.17\" y=\"-312.3\" font-family=\"Times,serif\" font-size=\"14.00\">value = 8601.652</text>\n",
       "</g>\n",
       "<!-- 0&#45;&gt;1 -->\n",
       "<g id=\"edge1\" class=\"edge\">\n",
       "<title>0&#45;&gt;1</title>\n",
       "<path fill=\"none\" stroke=\"black\" d=\"M191.43,-315.65C211.03,-318.55 231.86,-321.64 251.66,-324.57\"/>\n",
       "<polygon fill=\"black\" stroke=\"black\" points=\"251.19,-328.04 261.6,-326.05 252.22,-321.12 251.19,-328.04\"/>\n",
       "<text text-anchor=\"middle\" x=\"241.52\" y=\"-337.24\" font-family=\"Times,serif\" font-size=\"14.00\">True</text>\n",
       "</g>\n",
       "<!-- 8 -->\n",
       "<g id=\"node9\" class=\"node\">\n",
       "<title>8</title>\n",
       "<polygon fill=\"#eead7e\" stroke=\"black\" points=\"436.17,-245.5 257.17,-245.5 257.17,-177.5 436.17,-177.5 436.17,-245.5\"/>\n",
       "<text text-anchor=\"start\" x=\"297.67\" y=\"-230.3\" font-family=\"Times,serif\" font-size=\"14.00\">bmi ≤ 30.125</text>\n",
       "<text text-anchor=\"start\" x=\"265.17\" y=\"-215.3\" font-family=\"Times,serif\" font-size=\"14.00\">mse = 132127377.425</text>\n",
       "<text text-anchor=\"start\" x=\"293.17\" y=\"-200.3\" font-family=\"Times,serif\" font-size=\"14.00\">samples = 137</text>\n",
       "<text text-anchor=\"start\" x=\"278.67\" y=\"-185.3\" font-family=\"Times,serif\" font-size=\"14.00\">value = 32897.226</text>\n",
       "</g>\n",
       "<!-- 0&#45;&gt;8 -->\n",
       "<g id=\"edge8\" class=\"edge\">\n",
       "<title>0&#45;&gt;8</title>\n",
       "<path fill=\"none\" stroke=\"black\" d=\"M191.43,-269.26C209.75,-262.4 229.15,-255.13 247.78,-248.16\"/>\n",
       "<polygon fill=\"black\" stroke=\"black\" points=\"249.01,-251.43 257.15,-244.65 246.55,-244.88 249.01,-251.43\"/>\n",
       "<text text-anchor=\"middle\" x=\"234.39\" y=\"-230.59\" font-family=\"Times,serif\" font-size=\"14.00\">False</text>\n",
       "</g>\n",
       "<!-- 2 -->\n",
       "<g id=\"node3\" class=\"node\">\n",
       "<title>2</title>\n",
       "<polygon fill=\"#fefcfa\" stroke=\"black\" points=\"666.17,-486.5 505.17,-486.5 505.17,-418.5 666.17,-418.5 666.17,-486.5\"/>\n",
       "<text text-anchor=\"start\" x=\"534.17\" y=\"-471.3\" font-family=\"Times,serif\" font-size=\"14.00\">children ≤ 1.5</text>\n",
       "<text text-anchor=\"start\" x=\"513.17\" y=\"-456.3\" font-family=\"Times,serif\" font-size=\"14.00\">mse = 28469067.11</text>\n",
       "<text text-anchor=\"start\" x=\"532.17\" y=\"-441.3\" font-family=\"Times,serif\" font-size=\"14.00\">samples = 288</text>\n",
       "<text text-anchor=\"start\" x=\"522.17\" y=\"-426.3\" font-family=\"Times,serif\" font-size=\"14.00\">value = 5687.883</text>\n",
       "</g>\n",
       "<!-- 1&#45;&gt;2 -->\n",
       "<g id=\"edge2\" class=\"edge\">\n",
       "<title>1&#45;&gt;2</title>\n",
       "<path fill=\"none\" stroke=\"black\" d=\"M418.45,-372.55C445.54,-385.58 476.61,-400.52 504.51,-413.94\"/>\n",
       "<polygon fill=\"black\" stroke=\"black\" points=\"503.31,-417.25 513.84,-418.43 506.34,-410.94 503.31,-417.25\"/>\n",
       "</g>\n",
       "<!-- 5 -->\n",
       "<g id=\"node6\" class=\"node\">\n",
       "<title>5</title>\n",
       "<polygon fill=\"#fae9dc\" stroke=\"black\" points=\"670.67,-372.5 500.67,-372.5 500.67,-304.5 670.67,-304.5 670.67,-372.5\"/>\n",
       "<text text-anchor=\"start\" x=\"546.17\" y=\"-357.3\" font-family=\"Times,serif\" font-size=\"14.00\">age ≤ 51.5</text>\n",
       "<text text-anchor=\"start\" x=\"508.67\" y=\"-342.3\" font-family=\"Times,serif\" font-size=\"14.00\">mse = 26221552.935</text>\n",
       "<text text-anchor=\"start\" x=\"532.17\" y=\"-327.3\" font-family=\"Times,serif\" font-size=\"14.00\">samples = 224</text>\n",
       "<text text-anchor=\"start\" x=\"517.67\" y=\"-312.3\" font-family=\"Times,serif\" font-size=\"14.00\">value = 12178.717</text>\n",
       "</g>\n",
       "<!-- 1&#45;&gt;5 -->\n",
       "<g id=\"edge5\" class=\"edge\">\n",
       "<title>1&#45;&gt;5</title>\n",
       "<path fill=\"none\" stroke=\"black\" d=\"M431.89,-338.5C450.81,-338.5 471.01,-338.5 490.31,-338.5\"/>\n",
       "<polygon fill=\"black\" stroke=\"black\" points=\"490.31,-342 500.31,-338.5 490.31,-335 490.31,-342\"/>\n",
       "</g>\n",
       "<!-- 3 -->\n",
       "<g id=\"node4\" class=\"node\">\n",
       "<title>3</title>\n",
       "<polygon fill=\"#ffffff\" stroke=\"black\" points=\"904.67,-550 734.67,-550 734.67,-497 904.67,-497 904.67,-550\"/>\n",
       "<text text-anchor=\"start\" x=\"742.67\" y=\"-534.8\" font-family=\"Times,serif\" font-size=\"14.00\">mse = 20672082.895</text>\n",
       "<text text-anchor=\"start\" x=\"766.17\" y=\"-519.8\" font-family=\"Times,serif\" font-size=\"14.00\">samples = 193</text>\n",
       "<text text-anchor=\"start\" x=\"756.17\" y=\"-504.8\" font-family=\"Times,serif\" font-size=\"14.00\">value = 4525.506</text>\n",
       "</g>\n",
       "<!-- 2&#45;&gt;3 -->\n",
       "<g id=\"edge3\" class=\"edge\">\n",
       "<title>2&#45;&gt;3</title>\n",
       "<path fill=\"none\" stroke=\"black\" d=\"M666.18,-476.83C685.03,-482.6 705.32,-488.81 724.74,-494.76\"/>\n",
       "<polygon fill=\"black\" stroke=\"black\" points=\"723.92,-498.16 734.5,-497.74 725.97,-491.47 723.92,-498.16\"/>\n",
       "</g>\n",
       "<!-- 4 -->\n",
       "<g id=\"node5\" class=\"node\">\n",
       "<title>4</title>\n",
       "<polygon fill=\"#fdf5f0\" stroke=\"black\" points=\"904.67,-479 734.67,-479 734.67,-426 904.67,-426 904.67,-479\"/>\n",
       "<text text-anchor=\"start\" x=\"742.67\" y=\"-463.8\" font-family=\"Times,serif\" font-size=\"14.00\">mse = 35768335.806</text>\n",
       "<text text-anchor=\"start\" x=\"770.67\" y=\"-448.8\" font-family=\"Times,serif\" font-size=\"14.00\">samples = 95</text>\n",
       "<text text-anchor=\"start\" x=\"756.17\" y=\"-433.8\" font-family=\"Times,serif\" font-size=\"14.00\">value = 7837.185</text>\n",
       "</g>\n",
       "<!-- 2&#45;&gt;4 -->\n",
       "<g id=\"edge4\" class=\"edge\">\n",
       "<title>2&#45;&gt;4</title>\n",
       "<path fill=\"none\" stroke=\"black\" d=\"M666.18,-452.5C684.95,-452.5 705.13,-452.5 724.48,-452.5\"/>\n",
       "<polygon fill=\"black\" stroke=\"black\" points=\"724.5,-456 734.5,-452.5 724.5,-449 724.5,-456\"/>\n",
       "</g>\n",
       "<!-- 6 -->\n",
       "<g id=\"node7\" class=\"node\">\n",
       "<title>6</title>\n",
       "<polygon fill=\"#fcefe6\" stroke=\"black\" points=\"904.67,-408 734.67,-408 734.67,-355 904.67,-355 904.67,-408\"/>\n",
       "<text text-anchor=\"start\" x=\"742.67\" y=\"-392.8\" font-family=\"Times,serif\" font-size=\"14.00\">mse = 16828104.438</text>\n",
       "<text text-anchor=\"start\" x=\"766.17\" y=\"-377.8\" font-family=\"Times,serif\" font-size=\"14.00\">samples = 102</text>\n",
       "<text text-anchor=\"start\" x=\"756.17\" y=\"-362.8\" font-family=\"Times,serif\" font-size=\"14.00\">value = 9926.288</text>\n",
       "</g>\n",
       "<!-- 5&#45;&gt;6 -->\n",
       "<g id=\"edge6\" class=\"edge\">\n",
       "<title>5&#45;&gt;6</title>\n",
       "<path fill=\"none\" stroke=\"black\" d=\"M670.75,-354.08C688.1,-357.3 706.47,-360.71 724.16,-363.98\"/>\n",
       "<polygon fill=\"black\" stroke=\"black\" points=\"724.01,-367.52 734.48,-365.9 725.28,-360.63 724.01,-367.52\"/>\n",
       "</g>\n",
       "<!-- 7 -->\n",
       "<g id=\"node8\" class=\"node\">\n",
       "<title>7</title>\n",
       "<polygon fill=\"#f9e3d4\" stroke=\"black\" points=\"904.67,-337 734.67,-337 734.67,-284 904.67,-284 904.67,-337\"/>\n",
       "<text text-anchor=\"start\" x=\"742.67\" y=\"-321.8\" font-family=\"Times,serif\" font-size=\"14.00\">mse = 26209523.332</text>\n",
       "<text text-anchor=\"start\" x=\"766.17\" y=\"-306.8\" font-family=\"Times,serif\" font-size=\"14.00\">samples = 122</text>\n",
       "<text text-anchor=\"start\" x=\"751.67\" y=\"-291.8\" font-family=\"Times,serif\" font-size=\"14.00\">value = 14102.903</text>\n",
       "</g>\n",
       "<!-- 5&#45;&gt;7 -->\n",
       "<g id=\"edge7\" class=\"edge\">\n",
       "<title>5&#45;&gt;7</title>\n",
       "<path fill=\"none\" stroke=\"black\" d=\"M670.75,-328.35C688.1,-326.26 706.47,-324.04 724.16,-321.91\"/>\n",
       "<polygon fill=\"black\" stroke=\"black\" points=\"724.97,-325.33 734.48,-320.66 724.13,-318.38 724.97,-325.33\"/>\n",
       "</g>\n",
       "<!-- 9 -->\n",
       "<g id=\"node10\" class=\"node\">\n",
       "<title>9</title>\n",
       "<polygon fill=\"#f5ccaf\" stroke=\"black\" points=\"670.67,-245.5 500.67,-245.5 500.67,-177.5 670.67,-177.5 670.67,-245.5\"/>\n",
       "<text text-anchor=\"start\" x=\"546.17\" y=\"-230.3\" font-family=\"Times,serif\" font-size=\"14.00\">age ≤ 41.0</text>\n",
       "<text text-anchor=\"start\" x=\"508.67\" y=\"-215.3\" font-family=\"Times,serif\" font-size=\"14.00\">mse = 31536012.094</text>\n",
       "<text text-anchor=\"start\" x=\"536.67\" y=\"-200.3\" font-family=\"Times,serif\" font-size=\"14.00\">samples = 66</text>\n",
       "<text text-anchor=\"start\" x=\"517.67\" y=\"-185.3\" font-family=\"Times,serif\" font-size=\"14.00\">value = 22086.522</text>\n",
       "</g>\n",
       "<!-- 8&#45;&gt;9 -->\n",
       "<g id=\"edge9\" class=\"edge\">\n",
       "<title>8&#45;&gt;9</title>\n",
       "<path fill=\"none\" stroke=\"black\" d=\"M436.25,-211.5C453.84,-211.5 472.36,-211.5 490.14,-211.5\"/>\n",
       "<polygon fill=\"black\" stroke=\"black\" points=\"490.5,-215 500.5,-211.5 490.5,-208 490.5,-215\"/>\n",
       "</g>\n",
       "<!-- 12 -->\n",
       "<g id=\"node13\" class=\"node\">\n",
       "<title>12</title>\n",
       "<polygon fill=\"#e99355\" stroke=\"black\" points=\"670.67,-131.5 500.67,-131.5 500.67,-63.5 670.67,-63.5 670.67,-131.5\"/>\n",
       "<text text-anchor=\"start\" x=\"546.17\" y=\"-116.3\" font-family=\"Times,serif\" font-size=\"14.00\">age ≤ 50.5</text>\n",
       "<text text-anchor=\"start\" x=\"508.67\" y=\"-101.3\" font-family=\"Times,serif\" font-size=\"14.00\">mse = 36261988.921</text>\n",
       "<text text-anchor=\"start\" x=\"536.67\" y=\"-86.3\" font-family=\"Times,serif\" font-size=\"14.00\">samples = 71</text>\n",
       "<text text-anchor=\"start\" x=\"517.67\" y=\"-71.3\" font-family=\"Times,serif\" font-size=\"14.00\">value = 41964.267</text>\n",
       "</g>\n",
       "<!-- 8&#45;&gt;12 -->\n",
       "<g id=\"edge12\" class=\"edge\">\n",
       "<title>8&#45;&gt;12</title>\n",
       "<path fill=\"none\" stroke=\"black\" d=\"M418.45,-177.45C445.54,-164.42 476.61,-149.48 504.51,-136.06\"/>\n",
       "<polygon fill=\"black\" stroke=\"black\" points=\"506.34,-139.06 513.84,-131.57 503.31,-132.75 506.34,-139.06\"/>\n",
       "</g>\n",
       "<!-- 10 -->\n",
       "<g id=\"node11\" class=\"node\">\n",
       "<title>10</title>\n",
       "<polygon fill=\"#f6d6be\" stroke=\"black\" points=\"904.67,-266 734.67,-266 734.67,-213 904.67,-213 904.67,-266\"/>\n",
       "<text text-anchor=\"start\" x=\"742.67\" y=\"-250.8\" font-family=\"Times,serif\" font-size=\"14.00\">mse = 23203728.668</text>\n",
       "<text text-anchor=\"start\" x=\"770.67\" y=\"-235.8\" font-family=\"Times,serif\" font-size=\"14.00\">samples = 34</text>\n",
       "<text text-anchor=\"start\" x=\"751.67\" y=\"-220.8\" font-family=\"Times,serif\" font-size=\"14.00\">value = 18792.391</text>\n",
       "</g>\n",
       "<!-- 9&#45;&gt;10 -->\n",
       "<g id=\"edge10\" class=\"edge\">\n",
       "<title>9&#45;&gt;10</title>\n",
       "<path fill=\"none\" stroke=\"black\" d=\"M670.75,-221.65C688.1,-223.74 706.47,-225.96 724.16,-228.09\"/>\n",
       "<polygon fill=\"black\" stroke=\"black\" points=\"724.13,-231.62 734.48,-229.34 724.97,-224.67 724.13,-231.62\"/>\n",
       "</g>\n",
       "<!-- 11 -->\n",
       "<g id=\"node12\" class=\"node\">\n",
       "<title>11</title>\n",
       "<polygon fill=\"#f3c3a0\" stroke=\"black\" points=\"904.67,-195 734.67,-195 734.67,-142 904.67,-142 904.67,-195\"/>\n",
       "<text text-anchor=\"start\" x=\"742.67\" y=\"-179.8\" font-family=\"Times,serif\" font-size=\"14.00\">mse = 18165690.093</text>\n",
       "<text text-anchor=\"start\" x=\"770.67\" y=\"-164.8\" font-family=\"Times,serif\" font-size=\"14.00\">samples = 32</text>\n",
       "<text text-anchor=\"start\" x=\"751.67\" y=\"-149.8\" font-family=\"Times,serif\" font-size=\"14.00\">value = 25380.654</text>\n",
       "</g>\n",
       "<!-- 9&#45;&gt;11 -->\n",
       "<g id=\"edge11\" class=\"edge\">\n",
       "<title>9&#45;&gt;11</title>\n",
       "<path fill=\"none\" stroke=\"black\" d=\"M670.75,-195.92C688.1,-192.7 706.47,-189.29 724.16,-186.02\"/>\n",
       "<polygon fill=\"black\" stroke=\"black\" points=\"725.28,-189.37 734.48,-184.1 724.01,-182.48 725.28,-189.37\"/>\n",
       "</g>\n",
       "<!-- 13 -->\n",
       "<g id=\"node14\" class=\"node\">\n",
       "<title>13</title>\n",
       "<polygon fill=\"#ea9a60\" stroke=\"black\" points=\"904.67,-124 734.67,-124 734.67,-71 904.67,-71 904.67,-124\"/>\n",
       "<text text-anchor=\"start\" x=\"742.67\" y=\"-108.8\" font-family=\"Times,serif\" font-size=\"14.00\">mse = 19331181.678</text>\n",
       "<text text-anchor=\"start\" x=\"770.67\" y=\"-93.8\" font-family=\"Times,serif\" font-size=\"14.00\">samples = 52</text>\n",
       "<text text-anchor=\"start\" x=\"751.67\" y=\"-78.8\" font-family=\"Times,serif\" font-size=\"14.00\">value = 39540.192</text>\n",
       "</g>\n",
       "<!-- 12&#45;&gt;13 -->\n",
       "<g id=\"edge13\" class=\"edge\">\n",
       "<title>12&#45;&gt;13</title>\n",
       "<path fill=\"none\" stroke=\"black\" d=\"M670.75,-97.5C688.1,-97.5 706.47,-97.5 724.16,-97.5\"/>\n",
       "<polygon fill=\"black\" stroke=\"black\" points=\"724.48,-101 734.48,-97.5 724.48,-94 724.48,-101\"/>\n",
       "</g>\n",
       "<!-- 14 -->\n",
       "<g id=\"node15\" class=\"node\">\n",
       "<title>14</title>\n",
       "<polygon fill=\"#e58139\" stroke=\"black\" points=\"904.67,-53 734.67,-53 734.67,0 904.67,0 904.67,-53\"/>\n",
       "<text text-anchor=\"start\" x=\"742.67\" y=\"-37.8\" font-family=\"Times,serif\" font-size=\"14.00\">mse = 26376597.475</text>\n",
       "<text text-anchor=\"start\" x=\"770.67\" y=\"-22.8\" font-family=\"Times,serif\" font-size=\"14.00\">samples = 19</text>\n",
       "<text text-anchor=\"start\" x=\"751.67\" y=\"-7.8\" font-family=\"Times,serif\" font-size=\"14.00\">value = 48128.343</text>\n",
       "</g>\n",
       "<!-- 12&#45;&gt;14 -->\n",
       "<g id=\"edge14\" class=\"edge\">\n",
       "<title>12&#45;&gt;14</title>\n",
       "<path fill=\"none\" stroke=\"black\" d=\"M670.75,-71.77C688.26,-66.41 706.82,-60.73 724.65,-55.27\"/>\n",
       "<polygon fill=\"black\" stroke=\"black\" points=\"725.94,-58.54 734.48,-52.26 723.89,-51.84 725.94,-58.54\"/>\n",
       "</g>\n",
       "</g>\n",
       "</svg>\n"
      ],
      "text/plain": [
       "<graphviz.files.Source at 0x7fefbd769450>"
      ]
     },
     "metadata": {},
     "output_type": "display_data"
    }
   ],
   "source": [
    "m2 = RandomForestRegressor(n_estimators=10, max_depth=3, bootstrap=True, n_jobs=-1)\n",
    "m2.fit(df_tra.drop(['charges'], axis=1), df_tra.charges)\n",
    "\n",
    "draw_tree(m2.estimators_[4], df_tra.drop(['charges'], axis=1), precision=3)"
   ]
  },
  {
   "cell_type": "markdown",
   "id": "73cdd69a",
   "metadata": {
    "papermill": {
     "duration": 0.034044,
     "end_time": "2021-11-04T16:46:57.052447",
     "exception": false,
     "start_time": "2021-11-04T16:46:57.018403",
     "status": "completed"
    },
    "tags": []
   },
   "source": [
    "I can use the dictionary translation (created by numericalise_cats()) to look up what the categorical variables mean"
   ]
  },
  {
   "cell_type": "code",
   "execution_count": 21,
   "id": "5685a2b2",
   "metadata": {
    "execution": {
     "iopub.execute_input": "2021-11-04T16:46:57.124895Z",
     "iopub.status.busy": "2021-11-04T16:46:57.124312Z",
     "iopub.status.idle": "2021-11-04T16:46:57.129574Z",
     "shell.execute_reply": "2021-11-04T16:46:57.130175Z",
     "shell.execute_reply.started": "2021-11-04T16:18:16.711615Z"
    },
    "papermill": {
     "duration": 0.043109,
     "end_time": "2021-11-04T16:46:57.130314",
     "exception": false,
     "start_time": "2021-11-04T16:46:57.087205",
     "status": "completed"
    },
    "tags": []
   },
   "outputs": [
    {
     "data": {
      "text/plain": [
       "{'sex': {0: 'female', 1: 'male'},\n",
       " 'smoker': {0: 'no', 1: 'yes'},\n",
       " 'region': {0: 'northeast', 1: 'northwest', 2: 'southeast', 3: 'southwest'}}"
      ]
     },
     "execution_count": 21,
     "metadata": {},
     "output_type": "execute_result"
    }
   ],
   "source": [
    "translation"
   ]
  },
  {
   "cell_type": "code",
   "execution_count": 22,
   "id": "f0ae7487",
   "metadata": {
    "execution": {
     "iopub.execute_input": "2021-11-04T16:46:57.202291Z",
     "iopub.status.busy": "2021-11-04T16:46:57.201677Z",
     "iopub.status.idle": "2021-11-04T16:46:57.578289Z",
     "shell.execute_reply": "2021-11-04T16:46:57.578812Z",
     "shell.execute_reply.started": "2021-11-04T16:18:16.721060Z"
    },
    "papermill": {
     "duration": 0.414127,
     "end_time": "2021-11-04T16:46:57.579000",
     "exception": false,
     "start_time": "2021-11-04T16:46:57.164873",
     "status": "completed"
    },
    "tags": []
   },
   "outputs": [
    {
     "name": "stdout",
     "output_type": "stream",
     "text": [
      "0.8872172169046386\n"
     ]
    },
    {
     "data": {
      "text/plain": [
       "[(0.12505422122667456, 'age'),\n",
       " (0.00025893560327115754, 'sex'),\n",
       " (0.1802185360369287, 'bmi'),\n",
       " (0.010054378143144273, 'children'),\n",
       " (0.6805038885865939, 'smoker'),\n",
       " (0.003910040403387451, 'region')]"
      ]
     },
     "execution_count": 22,
     "metadata": {},
     "output_type": "execute_result"
    }
   ],
   "source": [
    "# A preview: feature importances (will return to this later)\n",
    "\n",
    "m2 = RandomForestRegressor(n_estimators=50, max_depth=5, bootstrap=True, n_jobs=-1, oob_score=True)\n",
    "m2.fit(df_tra.drop(['charges'], axis=1), df_tra.charges)\n",
    "print(m2.score(df_tra.drop(['charges'], axis=1), df_tra['charges']))\n",
    "list(zip(m2.feature_importances_, df_tra.drop(['charges'], axis=1).columns))"
   ]
  },
  {
   "cell_type": "markdown",
   "id": "1dd45446",
   "metadata": {
    "papermill": {
     "duration": 0.035312,
     "end_time": "2021-11-04T16:46:57.649902",
     "exception": false,
     "start_time": "2021-11-04T16:46:57.614590",
     "status": "completed"
    },
    "tags": []
   },
   "source": [
    "### Draw a tree using the inbuilt approach from scikit-learn"
   ]
  },
  {
   "cell_type": "code",
   "execution_count": 23,
   "id": "4226ff63",
   "metadata": {
    "execution": {
     "iopub.execute_input": "2021-11-04T16:46:57.727911Z",
     "iopub.status.busy": "2021-11-04T16:46:57.727273Z",
     "iopub.status.idle": "2021-11-04T16:46:57.979297Z",
     "shell.execute_reply": "2021-11-04T16:46:57.979821Z",
     "shell.execute_reply.started": "2021-11-04T16:25:09.180144Z"
    },
    "papermill": {
     "duration": 0.294452,
     "end_time": "2021-11-04T16:46:57.979982",
     "exception": false,
     "start_time": "2021-11-04T16:46:57.685530",
     "status": "completed"
    },
    "tags": []
   },
   "outputs": [
    {
     "data": {
      "image/svg+xml": [
       "<?xml version=\"1.0\" encoding=\"UTF-8\" standalone=\"no\"?>\n",
       "<!DOCTYPE svg PUBLIC \"-//W3C//DTD SVG 1.1//EN\"\n",
       " \"http://www.w3.org/Graphics/SVG/1.1/DTD/svg11.dtd\">\n",
       "<!-- Generated by graphviz version 2.49.0 (20210829.0051)\n",
       " -->\n",
       "<!-- Title: Tree Pages: 1 -->\n",
       "<svg width=\"2876pt\" height=\"477pt\"\n",
       " viewBox=\"0.00 0.00 2875.50 477.00\" xmlns=\"http://www.w3.org/2000/svg\" xmlns:xlink=\"http://www.w3.org/1999/xlink\">\n",
       "<g id=\"graph0\" class=\"graph\" transform=\"scale(1 1) rotate(0) translate(4 473)\">\n",
       "<title>Tree</title>\n",
       "<polygon fill=\"white\" stroke=\"transparent\" points=\"-4,4 -4,-473 2871.5,-473 2871.5,4 -4,4\"/>\n",
       "<!-- 0 -->\n",
       "<g id=\"node1\" class=\"node\">\n",
       "<title>0</title>\n",
       "<path fill=\"#f9e0cf\" stroke=\"black\" d=\"M1526.5,-469C1526.5,-469 1371.5,-469 1371.5,-469 1365.5,-469 1359.5,-463 1359.5,-457 1359.5,-457 1359.5,-413 1359.5,-413 1359.5,-407 1365.5,-401 1371.5,-401 1371.5,-401 1526.5,-401 1526.5,-401 1532.5,-401 1538.5,-407 1538.5,-413 1538.5,-413 1538.5,-457 1538.5,-457 1538.5,-463 1532.5,-469 1526.5,-469\"/>\n",
       "<text text-anchor=\"start\" x=\"1401.5\" y=\"-453.8\" font-family=\"Helvetica,sans-Serif\" font-size=\"14.00\">smoker ≤ 0.5</text>\n",
       "<text text-anchor=\"start\" x=\"1367.5\" y=\"-438.8\" font-family=\"Helvetica,sans-Serif\" font-size=\"14.00\">mse = 146214284.621</text>\n",
       "<text text-anchor=\"start\" x=\"1396\" y=\"-423.8\" font-family=\"Helvetica,sans-Serif\" font-size=\"14.00\">samples = 654</text>\n",
       "<text text-anchor=\"start\" x=\"1381\" y=\"-408.8\" font-family=\"Helvetica,sans-Serif\" font-size=\"14.00\">value = 13461.165</text>\n",
       "</g>\n",
       "<!-- 1 -->\n",
       "<g id=\"node2\" class=\"node\">\n",
       "<title>1</title>\n",
       "<path fill=\"#fbeee4\" stroke=\"black\" d=\"M1166,-365C1166,-365 1020,-365 1020,-365 1014,-365 1008,-359 1008,-353 1008,-353 1008,-309 1008,-309 1008,-303 1014,-297 1020,-297 1020,-297 1166,-297 1166,-297 1172,-297 1178,-303 1178,-309 1178,-309 1178,-353 1178,-353 1178,-359 1172,-365 1166,-365\"/>\n",
       "<text text-anchor=\"start\" x=\"1053.5\" y=\"-349.8\" font-family=\"Helvetica,sans-Serif\" font-size=\"14.00\">age ≤ 42.5</text>\n",
       "<text text-anchor=\"start\" x=\"1016\" y=\"-334.8\" font-family=\"Helvetica,sans-Serif\" font-size=\"14.00\">mse = 39949726.123</text>\n",
       "<text text-anchor=\"start\" x=\"1040\" y=\"-319.8\" font-family=\"Helvetica,sans-Serif\" font-size=\"14.00\">samples = 522</text>\n",
       "<text text-anchor=\"start\" x=\"1029.5\" y=\"-304.8\" font-family=\"Helvetica,sans-Serif\" font-size=\"14.00\">value = 8728.108</text>\n",
       "</g>\n",
       "<!-- 0&#45;&gt;1 -->\n",
       "<g id=\"edge1\" class=\"edge\">\n",
       "<title>0&#45;&gt;1</title>\n",
       "<path fill=\"none\" stroke=\"black\" d=\"M1359.17,-408.26C1306.91,-393.29 1241.08,-374.43 1187.97,-359.21\"/>\n",
       "<polygon fill=\"black\" stroke=\"black\" points=\"1188.78,-355.8 1178.21,-356.41 1186.86,-362.53 1188.78,-355.8\"/>\n",
       "<text text-anchor=\"middle\" x=\"1190.33\" y=\"-374.58\" font-family=\"Helvetica,sans-Serif\" font-size=\"14.00\">True</text>\n",
       "</g>\n",
       "<!-- 16 -->\n",
       "<g id=\"node17\" class=\"node\">\n",
       "<title>16</title>\n",
       "<path fill=\"#eeab7b\" stroke=\"black\" d=\"M1884.5,-365C1884.5,-365 1729.5,-365 1729.5,-365 1723.5,-365 1717.5,-359 1717.5,-353 1717.5,-353 1717.5,-309 1717.5,-309 1717.5,-303 1723.5,-297 1729.5,-297 1729.5,-297 1884.5,-297 1884.5,-297 1890.5,-297 1896.5,-303 1896.5,-309 1896.5,-309 1896.5,-353 1896.5,-353 1896.5,-359 1890.5,-365 1884.5,-365\"/>\n",
       "<text text-anchor=\"start\" x=\"1767.5\" y=\"-349.8\" font-family=\"Helvetica,sans-Serif\" font-size=\"14.00\">bmi ≤ 30.1</text>\n",
       "<text text-anchor=\"start\" x=\"1725.5\" y=\"-334.8\" font-family=\"Helvetica,sans-Serif\" font-size=\"14.00\">mse = 120941974.578</text>\n",
       "<text text-anchor=\"start\" x=\"1754\" y=\"-319.8\" font-family=\"Helvetica,sans-Serif\" font-size=\"14.00\">samples = 132</text>\n",
       "<text text-anchor=\"start\" x=\"1739\" y=\"-304.8\" font-family=\"Helvetica,sans-Serif\" font-size=\"14.00\">value = 32506.624</text>\n",
       "</g>\n",
       "<!-- 0&#45;&gt;16 -->\n",
       "<g id=\"edge16\" class=\"edge\">\n",
       "<title>0&#45;&gt;16</title>\n",
       "<path fill=\"none\" stroke=\"black\" d=\"M1538.88,-408.39C1590.26,-393.75 1654.79,-375.37 1707.66,-360.3\"/>\n",
       "<polygon fill=\"black\" stroke=\"black\" points=\"1708.74,-363.64 1717.4,-357.53 1706.82,-356.9 1708.74,-363.64\"/>\n",
       "<text text-anchor=\"middle\" x=\"1705.24\" y=\"-375.67\" font-family=\"Helvetica,sans-Serif\" font-size=\"14.00\">False</text>\n",
       "</g>\n",
       "<!-- 2 -->\n",
       "<g id=\"node3\" class=\"node\">\n",
       "<title>2</title>\n",
       "<path fill=\"#fef9f6\" stroke=\"black\" d=\"M604,-261C604,-261 458,-261 458,-261 452,-261 446,-255 446,-249 446,-249 446,-205 446,-205 446,-199 452,-193 458,-193 458,-193 604,-193 604,-193 610,-193 616,-199 616,-205 616,-205 616,-249 616,-249 616,-255 610,-261 604,-261\"/>\n",
       "<text text-anchor=\"start\" x=\"491.5\" y=\"-245.8\" font-family=\"Helvetica,sans-Serif\" font-size=\"14.00\">age ≤ 26.5</text>\n",
       "<text text-anchor=\"start\" x=\"454\" y=\"-230.8\" font-family=\"Helvetica,sans-Serif\" font-size=\"14.00\">mse = 15448773.426</text>\n",
       "<text text-anchor=\"start\" x=\"478\" y=\"-215.8\" font-family=\"Helvetica,sans-Serif\" font-size=\"14.00\">samples = 273</text>\n",
       "<text text-anchor=\"start\" x=\"467.5\" y=\"-200.8\" font-family=\"Helvetica,sans-Serif\" font-size=\"14.00\">value = 4704.334</text>\n",
       "</g>\n",
       "<!-- 1&#45;&gt;2 -->\n",
       "<g id=\"edge2\" class=\"edge\">\n",
       "<title>1&#45;&gt;2</title>\n",
       "<path fill=\"none\" stroke=\"black\" d=\"M1007.95,-314.56C905.39,-295.95 733.5,-264.75 626.48,-245.33\"/>\n",
       "<polygon fill=\"black\" stroke=\"black\" points=\"626.8,-241.83 616.34,-243.49 625.55,-248.72 626.8,-241.83\"/>\n",
       "</g>\n",
       "<!-- 9 -->\n",
       "<g id=\"node10\" class=\"node\">\n",
       "<title>9</title>\n",
       "<path fill=\"#f9e2d2\" stroke=\"black\" d=\"M1166,-261C1166,-261 1020,-261 1020,-261 1014,-261 1008,-255 1008,-249 1008,-249 1008,-205 1008,-205 1008,-199 1014,-193 1020,-193 1020,-193 1166,-193 1166,-193 1172,-193 1178,-199 1178,-205 1178,-205 1178,-249 1178,-249 1178,-255 1172,-261 1166,-261\"/>\n",
       "<text text-anchor=\"start\" x=\"1053.5\" y=\"-245.8\" font-family=\"Helvetica,sans-Serif\" font-size=\"14.00\">age ≤ 58.5</text>\n",
       "<text text-anchor=\"start\" x=\"1016\" y=\"-230.8\" font-family=\"Helvetica,sans-Serif\" font-size=\"14.00\">mse = 31297353.204</text>\n",
       "<text text-anchor=\"start\" x=\"1040\" y=\"-215.8\" font-family=\"Helvetica,sans-Serif\" font-size=\"14.00\">samples = 249</text>\n",
       "<text text-anchor=\"start\" x=\"1025\" y=\"-200.8\" font-family=\"Helvetica,sans-Serif\" font-size=\"14.00\">value = 12878.231</text>\n",
       "</g>\n",
       "<!-- 1&#45;&gt;9 -->\n",
       "<g id=\"edge9\" class=\"edge\">\n",
       "<title>1&#45;&gt;9</title>\n",
       "<path fill=\"none\" stroke=\"black\" d=\"M1093,-296.88C1093,-288.78 1093,-279.98 1093,-271.47\"/>\n",
       "<polygon fill=\"black\" stroke=\"black\" points=\"1096.5,-271.3 1093,-261.3 1089.5,-271.3 1096.5,-271.3\"/>\n",
       "</g>\n",
       "<!-- 3 -->\n",
       "<g id=\"node4\" class=\"node\">\n",
       "<title>3</title>\n",
       "<path fill=\"#fffefd\" stroke=\"black\" d=\"M323.5,-157C323.5,-157 186.5,-157 186.5,-157 180.5,-157 174.5,-151 174.5,-145 174.5,-145 174.5,-101 174.5,-101 174.5,-95 180.5,-89 186.5,-89 186.5,-89 323.5,-89 323.5,-89 329.5,-89 335.5,-95 335.5,-101 335.5,-101 335.5,-145 335.5,-145 335.5,-151 329.5,-157 323.5,-157\"/>\n",
       "<text text-anchor=\"start\" x=\"215.5\" y=\"-141.8\" font-family=\"Helvetica,sans-Serif\" font-size=\"14.00\">age ≤ 23.5</text>\n",
       "<text text-anchor=\"start\" x=\"182.5\" y=\"-126.8\" font-family=\"Helvetica,sans-Serif\" font-size=\"14.00\">mse = 8804844.401</text>\n",
       "<text text-anchor=\"start\" x=\"202\" y=\"-111.8\" font-family=\"Helvetica,sans-Serif\" font-size=\"14.00\">samples = 131</text>\n",
       "<text text-anchor=\"start\" x=\"191.5\" y=\"-96.8\" font-family=\"Helvetica,sans-Serif\" font-size=\"14.00\">value = 2922.816</text>\n",
       "</g>\n",
       "<!-- 2&#45;&gt;3 -->\n",
       "<g id=\"edge3\" class=\"edge\">\n",
       "<title>2&#45;&gt;3</title>\n",
       "<path fill=\"none\" stroke=\"black\" d=\"M445.94,-194.56C413.94,-182.74 377.45,-169.26 345.02,-157.27\"/>\n",
       "<polygon fill=\"black\" stroke=\"black\" points=\"346.13,-153.95 335.53,-153.76 343.7,-160.51 346.13,-153.95\"/>\n",
       "</g>\n",
       "<!-- 6 -->\n",
       "<g id=\"node7\" class=\"node\">\n",
       "<title>6</title>\n",
       "<path fill=\"#fdf4ee\" stroke=\"black\" d=\"M604,-157C604,-157 458,-157 458,-157 452,-157 446,-151 446,-145 446,-145 446,-101 446,-101 446,-95 452,-89 458,-89 458,-89 604,-89 604,-89 610,-89 616,-95 616,-101 616,-101 616,-145 616,-145 616,-151 610,-157 604,-157\"/>\n",
       "<text text-anchor=\"start\" x=\"491.5\" y=\"-141.8\" font-family=\"Helvetica,sans-Serif\" font-size=\"14.00\">age ≤ 32.5</text>\n",
       "<text text-anchor=\"start\" x=\"454\" y=\"-126.8\" font-family=\"Helvetica,sans-Serif\" font-size=\"14.00\">mse = 15784620.542</text>\n",
       "<text text-anchor=\"start\" x=\"478\" y=\"-111.8\" font-family=\"Helvetica,sans-Serif\" font-size=\"14.00\">samples = 142</text>\n",
       "<text text-anchor=\"start\" x=\"467.5\" y=\"-96.8\" font-family=\"Helvetica,sans-Serif\" font-size=\"14.00\">value = 6460.994</text>\n",
       "</g>\n",
       "<!-- 2&#45;&gt;6 -->\n",
       "<g id=\"edge6\" class=\"edge\">\n",
       "<title>2&#45;&gt;6</title>\n",
       "<path fill=\"none\" stroke=\"black\" d=\"M531,-192.88C531,-184.78 531,-175.98 531,-167.47\"/>\n",
       "<polygon fill=\"black\" stroke=\"black\" points=\"534.5,-167.3 531,-157.3 527.5,-167.3 534.5,-167.3\"/>\n",
       "</g>\n",
       "<!-- 4 -->\n",
       "<g id=\"node5\" class=\"node\">\n",
       "<title>4</title>\n",
       "<path fill=\"#ffffff\" stroke=\"black\" d=\"M140,-53C140,-53 12,-53 12,-53 6,-53 0,-47 0,-41 0,-41 0,-12 0,-12 0,-6 6,0 12,0 12,0 140,0 140,0 146,0 152,-6 152,-12 152,-12 152,-41 152,-41 152,-47 146,-53 140,-53\"/>\n",
       "<text text-anchor=\"start\" x=\"8\" y=\"-37.8\" font-family=\"Helvetica,sans-Serif\" font-size=\"14.00\">mse = 6506033.51</text>\n",
       "<text text-anchor=\"start\" x=\"27.5\" y=\"-22.8\" font-family=\"Helvetica,sans-Serif\" font-size=\"14.00\">samples = 97</text>\n",
       "<text text-anchor=\"start\" x=\"12.5\" y=\"-7.8\" font-family=\"Helvetica,sans-Serif\" font-size=\"14.00\">value = 2570.698</text>\n",
       "</g>\n",
       "<!-- 3&#45;&gt;4 -->\n",
       "<g id=\"edge4\" class=\"edge\">\n",
       "<title>3&#45;&gt;4</title>\n",
       "<path fill=\"none\" stroke=\"black\" d=\"M192.39,-88.95C173.25,-78.84 152.29,-67.78 133.5,-57.86\"/>\n",
       "<polygon fill=\"black\" stroke=\"black\" points=\"134.94,-54.66 124.47,-53.09 131.68,-60.85 134.94,-54.66\"/>\n",
       "</g>\n",
       "<!-- 5 -->\n",
       "<g id=\"node6\" class=\"node\">\n",
       "<title>5</title>\n",
       "<path fill=\"#fefbf8\" stroke=\"black\" d=\"M328,-53C328,-53 182,-53 182,-53 176,-53 170,-47 170,-41 170,-41 170,-12 170,-12 170,-6 176,0 182,0 182,0 328,0 328,0 334,0 340,-6 340,-12 340,-12 340,-41 340,-41 340,-47 334,-53 328,-53\"/>\n",
       "<text text-anchor=\"start\" x=\"178\" y=\"-37.8\" font-family=\"Helvetica,sans-Serif\" font-size=\"14.00\">mse = 14788117.934</text>\n",
       "<text text-anchor=\"start\" x=\"206.5\" y=\"-22.8\" font-family=\"Helvetica,sans-Serif\" font-size=\"14.00\">samples = 34</text>\n",
       "<text text-anchor=\"start\" x=\"191.5\" y=\"-7.8\" font-family=\"Helvetica,sans-Serif\" font-size=\"14.00\">value = 4125.885</text>\n",
       "</g>\n",
       "<!-- 3&#45;&gt;5 -->\n",
       "<g id=\"edge5\" class=\"edge\">\n",
       "<title>3&#45;&gt;5</title>\n",
       "<path fill=\"none\" stroke=\"black\" d=\"M255,-88.95C255,-80.72 255,-71.85 255,-63.48\"/>\n",
       "<polygon fill=\"black\" stroke=\"black\" points=\"258.5,-63.24 255,-53.24 251.5,-63.24 258.5,-63.24\"/>\n",
       "</g>\n",
       "<!-- 7 -->\n",
       "<g id=\"node8\" class=\"node\">\n",
       "<title>7</title>\n",
       "<path fill=\"#fdf8f3\" stroke=\"black\" d=\"M507.5,-53C507.5,-53 370.5,-53 370.5,-53 364.5,-53 358.5,-47 358.5,-41 358.5,-41 358.5,-12 358.5,-12 358.5,-6 364.5,0 370.5,0 370.5,0 507.5,0 507.5,0 513.5,0 519.5,-6 519.5,-12 519.5,-12 519.5,-41 519.5,-41 519.5,-47 513.5,-53 507.5,-53\"/>\n",
       "<text text-anchor=\"start\" x=\"366.5\" y=\"-37.8\" font-family=\"Helvetica,sans-Serif\" font-size=\"14.00\">mse = 15574664.88</text>\n",
       "<text text-anchor=\"start\" x=\"390.5\" y=\"-22.8\" font-family=\"Helvetica,sans-Serif\" font-size=\"14.00\">samples = 55</text>\n",
       "<text text-anchor=\"start\" x=\"375.5\" y=\"-7.8\" font-family=\"Helvetica,sans-Serif\" font-size=\"14.00\">value = 5228.715</text>\n",
       "</g>\n",
       "<!-- 6&#45;&gt;7 -->\n",
       "<g id=\"edge7\" class=\"edge\">\n",
       "<title>6&#45;&gt;7</title>\n",
       "<path fill=\"none\" stroke=\"black\" d=\"M498.82,-88.95C489.83,-79.71 480.06,-69.67 471.07,-60.44\"/>\n",
       "<polygon fill=\"black\" stroke=\"black\" points=\"473.54,-57.96 464.06,-53.24 468.52,-62.84 473.54,-57.96\"/>\n",
       "</g>\n",
       "<!-- 8 -->\n",
       "<g id=\"node9\" class=\"node\">\n",
       "<title>8</title>\n",
       "<path fill=\"#fcf2ea\" stroke=\"black\" d=\"M696,-53C696,-53 550,-53 550,-53 544,-53 538,-47 538,-41 538,-41 538,-12 538,-12 538,-6 544,0 550,0 550,0 696,0 696,0 702,0 708,-6 708,-12 708,-12 708,-41 708,-41 708,-47 702,-53 696,-53\"/>\n",
       "<text text-anchor=\"start\" x=\"546\" y=\"-37.8\" font-family=\"Helvetica,sans-Serif\" font-size=\"14.00\">mse = 14006488.329</text>\n",
       "<text text-anchor=\"start\" x=\"574.5\" y=\"-22.8\" font-family=\"Helvetica,sans-Serif\" font-size=\"14.00\">samples = 87</text>\n",
       "<text text-anchor=\"start\" x=\"559.5\" y=\"-7.8\" font-family=\"Helvetica,sans-Serif\" font-size=\"14.00\">value = 7365.328</text>\n",
       "</g>\n",
       "<!-- 6&#45;&gt;8 -->\n",
       "<g id=\"edge8\" class=\"edge\">\n",
       "<title>6&#45;&gt;8</title>\n",
       "<path fill=\"none\" stroke=\"black\" d=\"M563.18,-88.95C572.17,-79.71 581.94,-69.67 590.93,-60.44\"/>\n",
       "<polygon fill=\"black\" stroke=\"black\" points=\"593.48,-62.84 597.94,-53.24 588.46,-57.96 593.48,-62.84\"/>\n",
       "</g>\n",
       "<!-- 10 -->\n",
       "<g id=\"node11\" class=\"node\">\n",
       "<title>10</title>\n",
       "<path fill=\"#fae5d6\" stroke=\"black\" d=\"M1072,-157C1072,-157 926,-157 926,-157 920,-157 914,-151 914,-145 914,-145 914,-101 914,-101 914,-95 920,-89 926,-89 926,-89 1072,-89 1072,-89 1078,-89 1084,-95 1084,-101 1084,-101 1084,-145 1084,-145 1084,-151 1078,-157 1072,-157\"/>\n",
       "<text text-anchor=\"start\" x=\"959.5\" y=\"-141.8\" font-family=\"Helvetica,sans-Serif\" font-size=\"14.00\">age ≤ 51.5</text>\n",
       "<text text-anchor=\"start\" x=\"922\" y=\"-126.8\" font-family=\"Helvetica,sans-Serif\" font-size=\"14.00\">mse = 29918598.674</text>\n",
       "<text text-anchor=\"start\" x=\"946\" y=\"-111.8\" font-family=\"Helvetica,sans-Serif\" font-size=\"14.00\">samples = 189</text>\n",
       "<text text-anchor=\"start\" x=\"931\" y=\"-96.8\" font-family=\"Helvetica,sans-Serif\" font-size=\"14.00\">value = 11989.148</text>\n",
       "</g>\n",
       "<!-- 9&#45;&gt;10 -->\n",
       "<g id=\"edge10\" class=\"edge\">\n",
       "<title>9&#45;&gt;10</title>\n",
       "<path fill=\"none\" stroke=\"black\" d=\"M1062.48,-192.88C1054.19,-183.89 1045.12,-174.04 1036.49,-164.68\"/>\n",
       "<polygon fill=\"black\" stroke=\"black\" points=\"1039.04,-162.28 1029.69,-157.3 1033.89,-167.02 1039.04,-162.28\"/>\n",
       "</g>\n",
       "<!-- 13 -->\n",
       "<g id=\"node14\" class=\"node\">\n",
       "<title>13</title>\n",
       "<path fill=\"#f8dbc6\" stroke=\"black\" d=\"M1260,-157C1260,-157 1114,-157 1114,-157 1108,-157 1102,-151 1102,-145 1102,-145 1102,-101 1102,-101 1102,-95 1108,-89 1114,-89 1114,-89 1260,-89 1260,-89 1266,-89 1272,-95 1272,-101 1272,-101 1272,-145 1272,-145 1272,-151 1266,-157 1260,-157\"/>\n",
       "<text text-anchor=\"start\" x=\"1137\" y=\"-141.8\" font-family=\"Helvetica,sans-Serif\" font-size=\"14.00\">children ≤ 3.5</text>\n",
       "<text text-anchor=\"start\" x=\"1110\" y=\"-126.8\" font-family=\"Helvetica,sans-Serif\" font-size=\"14.00\">mse = 26027605.656</text>\n",
       "<text text-anchor=\"start\" x=\"1138.5\" y=\"-111.8\" font-family=\"Helvetica,sans-Serif\" font-size=\"14.00\">samples = 60</text>\n",
       "<text text-anchor=\"start\" x=\"1119\" y=\"-96.8\" font-family=\"Helvetica,sans-Serif\" font-size=\"14.00\">value = 15528.381</text>\n",
       "</g>\n",
       "<!-- 9&#45;&gt;13 -->\n",
       "<g id=\"edge13\" class=\"edge\">\n",
       "<title>9&#45;&gt;13</title>\n",
       "<path fill=\"none\" stroke=\"black\" d=\"M1123.52,-192.88C1131.81,-183.89 1140.88,-174.04 1149.51,-164.68\"/>\n",
       "<polygon fill=\"black\" stroke=\"black\" points=\"1152.11,-167.02 1156.31,-157.3 1146.96,-162.28 1152.11,-167.02\"/>\n",
       "</g>\n",
       "<!-- 11 -->\n",
       "<g id=\"node12\" class=\"node\">\n",
       "<title>11</title>\n",
       "<path fill=\"#fae7da\" stroke=\"black\" d=\"M884,-53C884,-53 738,-53 738,-53 732,-53 726,-47 726,-41 726,-41 726,-12 726,-12 726,-6 732,0 738,0 738,0 884,0 884,0 890,0 896,-6 896,-12 896,-12 896,-41 896,-41 896,-47 890,-53 884,-53\"/>\n",
       "<text text-anchor=\"start\" x=\"734\" y=\"-37.8\" font-family=\"Helvetica,sans-Serif\" font-size=\"14.00\">mse = 32217105.197</text>\n",
       "<text text-anchor=\"start\" x=\"758\" y=\"-22.8\" font-family=\"Helvetica,sans-Serif\" font-size=\"14.00\">samples = 100</text>\n",
       "<text text-anchor=\"start\" x=\"743\" y=\"-7.8\" font-family=\"Helvetica,sans-Serif\" font-size=\"14.00\">value = 11048.756</text>\n",
       "</g>\n",
       "<!-- 10&#45;&gt;11 -->\n",
       "<g id=\"edge11\" class=\"edge\">\n",
       "<title>10&#45;&gt;11</title>\n",
       "<path fill=\"none\" stroke=\"black\" d=\"M933.25,-88.95C912.95,-78.75 890.72,-67.57 870.85,-57.59\"/>\n",
       "<polygon fill=\"black\" stroke=\"black\" points=\"872.41,-54.45 861.9,-53.09 869.27,-60.71 872.41,-54.45\"/>\n",
       "</g>\n",
       "<!-- 12 -->\n",
       "<g id=\"node13\" class=\"node\">\n",
       "<title>12</title>\n",
       "<path fill=\"#f9e2d1\" stroke=\"black\" d=\"M1072,-53C1072,-53 926,-53 926,-53 920,-53 914,-47 914,-41 914,-41 914,-12 914,-12 914,-6 920,0 926,0 926,0 1072,0 1072,0 1078,0 1084,-6 1084,-12 1084,-12 1084,-41 1084,-41 1084,-47 1078,-53 1072,-53\"/>\n",
       "<text text-anchor=\"start\" x=\"922\" y=\"-37.8\" font-family=\"Helvetica,sans-Serif\" font-size=\"14.00\">mse = 25227511.205</text>\n",
       "<text text-anchor=\"start\" x=\"950.5\" y=\"-22.8\" font-family=\"Helvetica,sans-Serif\" font-size=\"14.00\">samples = 89</text>\n",
       "<text text-anchor=\"start\" x=\"935.5\" y=\"-7.8\" font-family=\"Helvetica,sans-Serif\" font-size=\"14.00\">value = 13045.48</text>\n",
       "</g>\n",
       "<!-- 10&#45;&gt;12 -->\n",
       "<g id=\"edge12\" class=\"edge\">\n",
       "<title>10&#45;&gt;12</title>\n",
       "<path fill=\"none\" stroke=\"black\" d=\"M999,-88.95C999,-80.72 999,-71.85 999,-63.48\"/>\n",
       "<polygon fill=\"black\" stroke=\"black\" points=\"1002.5,-63.24 999,-53.24 995.5,-63.24 1002.5,-63.24\"/>\n",
       "</g>\n",
       "<!-- 14 -->\n",
       "<g id=\"node15\" class=\"node\">\n",
       "<title>14</title>\n",
       "<path fill=\"#f8dbc7\" stroke=\"black\" d=\"M1260,-53C1260,-53 1114,-53 1114,-53 1108,-53 1102,-47 1102,-41 1102,-41 1102,-12 1102,-12 1102,-6 1108,0 1114,0 1114,0 1260,0 1260,0 1266,0 1272,-6 1272,-12 1272,-12 1272,-41 1272,-41 1272,-47 1266,-53 1260,-53\"/>\n",
       "<text text-anchor=\"start\" x=\"1110\" y=\"-37.8\" font-family=\"Helvetica,sans-Serif\" font-size=\"14.00\">mse = 21935783.456</text>\n",
       "<text text-anchor=\"start\" x=\"1138.5\" y=\"-22.8\" font-family=\"Helvetica,sans-Serif\" font-size=\"14.00\">samples = 59</text>\n",
       "<text text-anchor=\"start\" x=\"1119\" y=\"-7.8\" font-family=\"Helvetica,sans-Serif\" font-size=\"14.00\">value = 15323.993</text>\n",
       "</g>\n",
       "<!-- 13&#45;&gt;14 -->\n",
       "<g id=\"edge14\" class=\"edge\">\n",
       "<title>13&#45;&gt;14</title>\n",
       "<path fill=\"none\" stroke=\"black\" d=\"M1187,-88.95C1187,-80.72 1187,-71.85 1187,-63.48\"/>\n",
       "<polygon fill=\"black\" stroke=\"black\" points=\"1190.5,-63.24 1187,-53.24 1183.5,-63.24 1190.5,-63.24\"/>\n",
       "</g>\n",
       "<!-- 15 -->\n",
       "<g id=\"node16\" class=\"node\">\n",
       "<title>15</title>\n",
       "<path fill=\"#eba069\" stroke=\"black\" d=\"M1430,-53C1430,-53 1302,-53 1302,-53 1296,-53 1290,-47 1290,-41 1290,-41 1290,-12 1290,-12 1290,-6 1296,0 1302,0 1302,0 1430,0 1430,0 1436,0 1442,-6 1442,-12 1442,-12 1442,-41 1442,-41 1442,-47 1436,-53 1430,-53\"/>\n",
       "<text text-anchor=\"start\" x=\"1329.5\" y=\"-37.8\" font-family=\"Helvetica,sans-Serif\" font-size=\"14.00\">mse = 0.0</text>\n",
       "<text text-anchor=\"start\" x=\"1322\" y=\"-22.8\" font-family=\"Helvetica,sans-Serif\" font-size=\"14.00\">samples = 1</text>\n",
       "<text text-anchor=\"start\" x=\"1298\" y=\"-7.8\" font-family=\"Helvetica,sans-Serif\" font-size=\"14.00\">value = 36580.282</text>\n",
       "</g>\n",
       "<!-- 13&#45;&gt;15 -->\n",
       "<g id=\"edge15\" class=\"edge\">\n",
       "<title>13&#45;&gt;15</title>\n",
       "<path fill=\"none\" stroke=\"black\" d=\"M1249.61,-88.95C1268.75,-78.84 1289.71,-67.78 1308.5,-57.86\"/>\n",
       "<polygon fill=\"black\" stroke=\"black\" points=\"1310.32,-60.85 1317.53,-53.09 1307.06,-54.66 1310.32,-60.85\"/>\n",
       "</g>\n",
       "<!-- 17 -->\n",
       "<g id=\"node18\" class=\"node\">\n",
       "<title>17</title>\n",
       "<path fill=\"#f4c9ab\" stroke=\"black\" d=\"M1880,-261C1880,-261 1734,-261 1734,-261 1728,-261 1722,-255 1722,-249 1722,-249 1722,-205 1722,-205 1722,-199 1728,-193 1734,-193 1734,-193 1880,-193 1880,-193 1886,-193 1892,-199 1892,-205 1892,-205 1892,-249 1892,-249 1892,-255 1886,-261 1880,-261\"/>\n",
       "<text text-anchor=\"start\" x=\"1767.5\" y=\"-245.8\" font-family=\"Helvetica,sans-Serif\" font-size=\"14.00\">age ≤ 41.0</text>\n",
       "<text text-anchor=\"start\" x=\"1730\" y=\"-230.8\" font-family=\"Helvetica,sans-Serif\" font-size=\"14.00\">mse = 27615588.309</text>\n",
       "<text text-anchor=\"start\" x=\"1758.5\" y=\"-215.8\" font-family=\"Helvetica,sans-Serif\" font-size=\"14.00\">samples = 64</text>\n",
       "<text text-anchor=\"start\" x=\"1739\" y=\"-200.8\" font-family=\"Helvetica,sans-Serif\" font-size=\"14.00\">value = 21690.547</text>\n",
       "</g>\n",
       "<!-- 16&#45;&gt;17 -->\n",
       "<g id=\"edge17\" class=\"edge\">\n",
       "<title>16&#45;&gt;17</title>\n",
       "<path fill=\"none\" stroke=\"black\" d=\"M1807,-296.88C1807,-288.78 1807,-279.98 1807,-271.47\"/>\n",
       "<polygon fill=\"black\" stroke=\"black\" points=\"1810.5,-271.3 1807,-261.3 1803.5,-271.3 1810.5,-271.3\"/>\n",
       "</g>\n",
       "<!-- 24 -->\n",
       "<g id=\"node25\" class=\"node\">\n",
       "<title>24</title>\n",
       "<path fill=\"#e89254\" stroke=\"black\" d=\"M2416,-261C2416,-261 2270,-261 2270,-261 2264,-261 2258,-255 2258,-249 2258,-249 2258,-205 2258,-205 2258,-199 2264,-193 2270,-193 2270,-193 2416,-193 2416,-193 2422,-193 2428,-199 2428,-205 2428,-205 2428,-249 2428,-249 2428,-255 2422,-261 2416,-261\"/>\n",
       "<text text-anchor=\"start\" x=\"2303.5\" y=\"-245.8\" font-family=\"Helvetica,sans-Serif\" font-size=\"14.00\">age ≤ 50.5</text>\n",
       "<text text-anchor=\"start\" x=\"2266\" y=\"-230.8\" font-family=\"Helvetica,sans-Serif\" font-size=\"14.00\">mse = 19983037.904</text>\n",
       "<text text-anchor=\"start\" x=\"2294.5\" y=\"-215.8\" font-family=\"Helvetica,sans-Serif\" font-size=\"14.00\">samples = 68</text>\n",
       "<text text-anchor=\"start\" x=\"2275\" y=\"-200.8\" font-family=\"Helvetica,sans-Serif\" font-size=\"14.00\">value = 41520.021</text>\n",
       "</g>\n",
       "<!-- 16&#45;&gt;24 -->\n",
       "<g id=\"edge24\" class=\"edge\">\n",
       "<title>16&#45;&gt;24</title>\n",
       "<path fill=\"none\" stroke=\"black\" d=\"M1896.71,-312.93C1993.96,-294.42 2148.51,-265.01 2247.83,-246.11\"/>\n",
       "<polygon fill=\"black\" stroke=\"black\" points=\"2248.7,-249.51 2257.87,-244.2 2247.39,-242.63 2248.7,-249.51\"/>\n",
       "</g>\n",
       "<!-- 18 -->\n",
       "<g id=\"node19\" class=\"node\">\n",
       "<title>18</title>\n",
       "<path fill=\"#f6d3ba\" stroke=\"black\" d=\"M1783.5,-157C1783.5,-157 1646.5,-157 1646.5,-157 1640.5,-157 1634.5,-151 1634.5,-145 1634.5,-145 1634.5,-101 1634.5,-101 1634.5,-95 1640.5,-89 1646.5,-89 1646.5,-89 1783.5,-89 1783.5,-89 1789.5,-89 1795.5,-95 1795.5,-101 1795.5,-101 1795.5,-145 1795.5,-145 1795.5,-151 1789.5,-157 1783.5,-157\"/>\n",
       "<text text-anchor=\"start\" x=\"1675.5\" y=\"-141.8\" font-family=\"Helvetica,sans-Serif\" font-size=\"14.00\">age ≤ 29.5</text>\n",
       "<text text-anchor=\"start\" x=\"1642.5\" y=\"-126.8\" font-family=\"Helvetica,sans-Serif\" font-size=\"14.00\">mse = 9798687.889</text>\n",
       "<text text-anchor=\"start\" x=\"1666.5\" y=\"-111.8\" font-family=\"Helvetica,sans-Serif\" font-size=\"14.00\">samples = 33</text>\n",
       "<text text-anchor=\"start\" x=\"1647\" y=\"-96.8\" font-family=\"Helvetica,sans-Serif\" font-size=\"14.00\">value = 18213.314</text>\n",
       "</g>\n",
       "<!-- 17&#45;&gt;18 -->\n",
       "<g id=\"edge18\" class=\"edge\">\n",
       "<title>17&#45;&gt;18</title>\n",
       "<path fill=\"none\" stroke=\"black\" d=\"M1777.13,-192.88C1769.1,-183.98 1760.31,-174.24 1751.94,-164.96\"/>\n",
       "<polygon fill=\"black\" stroke=\"black\" points=\"1754.33,-162.38 1745.03,-157.3 1749.13,-167.07 1754.33,-162.38\"/>\n",
       "</g>\n",
       "<!-- 21 -->\n",
       "<g id=\"node22\" class=\"node\">\n",
       "<title>21</title>\n",
       "<path fill=\"#f2c09b\" stroke=\"black\" d=\"M1972,-157C1972,-157 1826,-157 1826,-157 1820,-157 1814,-151 1814,-145 1814,-145 1814,-101 1814,-101 1814,-95 1820,-89 1826,-89 1826,-89 1972,-89 1972,-89 1978,-89 1984,-95 1984,-101 1984,-101 1984,-145 1984,-145 1984,-151 1978,-157 1972,-157\"/>\n",
       "<text text-anchor=\"start\" x=\"1850.5\" y=\"-141.8\" font-family=\"Helvetica,sans-Serif\" font-size=\"14.00\">bmi ≤ 25.955</text>\n",
       "<text text-anchor=\"start\" x=\"1822\" y=\"-126.8\" font-family=\"Helvetica,sans-Serif\" font-size=\"14.00\">mse = 20852028.493</text>\n",
       "<text text-anchor=\"start\" x=\"1850.5\" y=\"-111.8\" font-family=\"Helvetica,sans-Serif\" font-size=\"14.00\">samples = 31</text>\n",
       "<text text-anchor=\"start\" x=\"1831\" y=\"-96.8\" font-family=\"Helvetica,sans-Serif\" font-size=\"14.00\">value = 25241.763</text>\n",
       "</g>\n",
       "<!-- 17&#45;&gt;21 -->\n",
       "<g id=\"edge21\" class=\"edge\">\n",
       "<title>17&#45;&gt;21</title>\n",
       "<path fill=\"none\" stroke=\"black\" d=\"M1836.87,-192.88C1844.9,-183.98 1853.69,-174.24 1862.06,-164.96\"/>\n",
       "<polygon fill=\"black\" stroke=\"black\" points=\"1864.87,-167.07 1868.97,-157.3 1859.67,-162.38 1864.87,-167.07\"/>\n",
       "</g>\n",
       "<!-- 19 -->\n",
       "<g id=\"node20\" class=\"node\">\n",
       "<title>19</title>\n",
       "<path fill=\"#f7d8c2\" stroke=\"black\" d=\"M1609.5,-53C1609.5,-53 1472.5,-53 1472.5,-53 1466.5,-53 1460.5,-47 1460.5,-41 1460.5,-41 1460.5,-12 1460.5,-12 1460.5,-6 1466.5,0 1472.5,0 1472.5,0 1609.5,0 1609.5,0 1615.5,0 1621.5,-6 1621.5,-12 1621.5,-12 1621.5,-41 1621.5,-41 1621.5,-47 1615.5,-53 1609.5,-53\"/>\n",
       "<text text-anchor=\"start\" x=\"1468.5\" y=\"-37.8\" font-family=\"Helvetica,sans-Serif\" font-size=\"14.00\">mse = 2633859.864</text>\n",
       "<text text-anchor=\"start\" x=\"1492.5\" y=\"-22.8\" font-family=\"Helvetica,sans-Serif\" font-size=\"14.00\">samples = 18</text>\n",
       "<text text-anchor=\"start\" x=\"1473\" y=\"-7.8\" font-family=\"Helvetica,sans-Serif\" font-size=\"14.00\">value = 16366.895</text>\n",
       "</g>\n",
       "<!-- 18&#45;&gt;19 -->\n",
       "<g id=\"edge19\" class=\"edge\">\n",
       "<title>18&#45;&gt;19</title>\n",
       "<path fill=\"none\" stroke=\"black\" d=\"M1654.14,-88.95C1635.7,-78.93 1615.53,-67.98 1597.39,-58.13\"/>\n",
       "<polygon fill=\"black\" stroke=\"black\" points=\"1598.57,-54.78 1588.11,-53.09 1595.23,-60.93 1598.57,-54.78\"/>\n",
       "</g>\n",
       "<!-- 20 -->\n",
       "<g id=\"node21\" class=\"node\">\n",
       "<title>20</title>\n",
       "<path fill=\"#f5cdb0\" stroke=\"black\" d=\"M1788.5,-53C1788.5,-53 1651.5,-53 1651.5,-53 1645.5,-53 1639.5,-47 1639.5,-41 1639.5,-41 1639.5,-12 1639.5,-12 1639.5,-6 1645.5,0 1651.5,0 1651.5,0 1788.5,0 1788.5,0 1794.5,0 1800.5,-6 1800.5,-12 1800.5,-12 1800.5,-41 1800.5,-41 1800.5,-47 1794.5,-53 1788.5,-53\"/>\n",
       "<text text-anchor=\"start\" x=\"1647.5\" y=\"-37.8\" font-family=\"Helvetica,sans-Serif\" font-size=\"14.00\">mse = 8991542.415</text>\n",
       "<text text-anchor=\"start\" x=\"1671.5\" y=\"-22.8\" font-family=\"Helvetica,sans-Serif\" font-size=\"14.00\">samples = 15</text>\n",
       "<text text-anchor=\"start\" x=\"1652\" y=\"-7.8\" font-family=\"Helvetica,sans-Serif\" font-size=\"14.00\">value = 20587.283</text>\n",
       "</g>\n",
       "<!-- 18&#45;&gt;20 -->\n",
       "<g id=\"edge20\" class=\"edge\">\n",
       "<title>18&#45;&gt;20</title>\n",
       "<path fill=\"none\" stroke=\"black\" d=\"M1716.75,-88.95C1717.18,-80.72 1717.65,-71.85 1718.1,-63.48\"/>\n",
       "<polygon fill=\"black\" stroke=\"black\" points=\"1721.6,-63.41 1718.64,-53.24 1714.61,-63.04 1721.6,-63.41\"/>\n",
       "</g>\n",
       "<!-- 22 -->\n",
       "<g id=\"node23\" class=\"node\">\n",
       "<title>22</title>\n",
       "<path fill=\"#f3c6a5\" stroke=\"black\" d=\"M1959,-53C1959,-53 1831,-53 1831,-53 1825,-53 1819,-47 1819,-41 1819,-41 1819,-12 1819,-12 1819,-6 1825,0 1831,0 1831,0 1959,0 1959,0 1965,0 1971,-6 1971,-12 1971,-12 1971,-41 1971,-41 1971,-47 1965,-53 1959,-53\"/>\n",
       "<text text-anchor=\"start\" x=\"1827\" y=\"-37.8\" font-family=\"Helvetica,sans-Serif\" font-size=\"14.00\">mse = 4626678.06</text>\n",
       "<text text-anchor=\"start\" x=\"1846.5\" y=\"-22.8\" font-family=\"Helvetica,sans-Serif\" font-size=\"14.00\">samples = 16</text>\n",
       "<text text-anchor=\"start\" x=\"1827\" y=\"-7.8\" font-family=\"Helvetica,sans-Serif\" font-size=\"14.00\">value = 22964.755</text>\n",
       "</g>\n",
       "<!-- 21&#45;&gt;22 -->\n",
       "<g id=\"edge22\" class=\"edge\">\n",
       "<title>21&#45;&gt;22</title>\n",
       "<path fill=\"none\" stroke=\"black\" d=\"M1897.6,-88.95C1897.25,-80.72 1896.88,-71.85 1896.52,-63.48\"/>\n",
       "<polygon fill=\"black\" stroke=\"black\" points=\"1900.01,-63.08 1896.09,-53.24 1893.02,-63.38 1900.01,-63.08\"/>\n",
       "</g>\n",
       "<!-- 23 -->\n",
       "<g id=\"node24\" class=\"node\">\n",
       "<title>23</title>\n",
       "<path fill=\"#f1ba93\" stroke=\"black\" d=\"M2147,-53C2147,-53 2001,-53 2001,-53 1995,-53 1989,-47 1989,-41 1989,-41 1989,-12 1989,-12 1989,-6 1995,0 2001,0 2001,0 2147,0 2147,0 2153,0 2159,-6 2159,-12 2159,-12 2159,-41 2159,-41 2159,-47 2153,-53 2147,-53\"/>\n",
       "<text text-anchor=\"start\" x=\"1997\" y=\"-37.8\" font-family=\"Helvetica,sans-Serif\" font-size=\"14.00\">mse = 26387051.372</text>\n",
       "<text text-anchor=\"start\" x=\"2025.5\" y=\"-22.8\" font-family=\"Helvetica,sans-Serif\" font-size=\"14.00\">samples = 15</text>\n",
       "<text text-anchor=\"start\" x=\"2006\" y=\"-7.8\" font-family=\"Helvetica,sans-Serif\" font-size=\"14.00\">value = 27080.886</text>\n",
       "</g>\n",
       "<!-- 21&#45;&gt;23 -->\n",
       "<g id=\"edge23\" class=\"edge\">\n",
       "<title>21&#45;&gt;23</title>\n",
       "<path fill=\"none\" stroke=\"black\" d=\"M1960.21,-88.95C1978.93,-78.84 1999.42,-67.78 2017.79,-57.86\"/>\n",
       "<polygon fill=\"black\" stroke=\"black\" points=\"2019.48,-60.92 2026.62,-53.09 2016.16,-54.76 2019.48,-60.92\"/>\n",
       "</g>\n",
       "<!-- 25 -->\n",
       "<g id=\"node26\" class=\"node\">\n",
       "<title>25</title>\n",
       "<path fill=\"#e9975b\" stroke=\"black\" d=\"M2416,-157C2416,-157 2270,-157 2270,-157 2264,-157 2258,-151 2258,-145 2258,-145 2258,-101 2258,-101 2258,-95 2264,-89 2270,-89 2270,-89 2416,-89 2416,-89 2422,-89 2428,-95 2428,-101 2428,-101 2428,-145 2428,-145 2428,-151 2422,-157 2416,-157\"/>\n",
       "<text text-anchor=\"start\" x=\"2299\" y=\"-141.8\" font-family=\"Helvetica,sans-Serif\" font-size=\"14.00\">bmi ≤ 37.93</text>\n",
       "<text text-anchor=\"start\" x=\"2266\" y=\"-126.8\" font-family=\"Helvetica,sans-Serif\" font-size=\"14.00\">mse = 14072775.893</text>\n",
       "<text text-anchor=\"start\" x=\"2294.5\" y=\"-111.8\" font-family=\"Helvetica,sans-Serif\" font-size=\"14.00\">samples = 52</text>\n",
       "<text text-anchor=\"start\" x=\"2275\" y=\"-96.8\" font-family=\"Helvetica,sans-Serif\" font-size=\"14.00\">value = 39782.229</text>\n",
       "</g>\n",
       "<!-- 24&#45;&gt;25 -->\n",
       "<g id=\"edge25\" class=\"edge\">\n",
       "<title>24&#45;&gt;25</title>\n",
       "<path fill=\"none\" stroke=\"black\" d=\"M2343,-192.88C2343,-184.78 2343,-175.98 2343,-167.47\"/>\n",
       "<polygon fill=\"black\" stroke=\"black\" points=\"2346.5,-167.3 2343,-157.3 2339.5,-167.3 2346.5,-167.3\"/>\n",
       "</g>\n",
       "<!-- 28 -->\n",
       "<g id=\"node29\" class=\"node\">\n",
       "<title>28</title>\n",
       "<path fill=\"#e6843e\" stroke=\"black\" d=\"M2680.5,-157C2680.5,-157 2543.5,-157 2543.5,-157 2537.5,-157 2531.5,-151 2531.5,-145 2531.5,-145 2531.5,-101 2531.5,-101 2531.5,-95 2537.5,-89 2543.5,-89 2543.5,-89 2680.5,-89 2680.5,-89 2686.5,-89 2692.5,-95 2692.5,-101 2692.5,-101 2692.5,-145 2692.5,-145 2692.5,-151 2686.5,-157 2680.5,-157\"/>\n",
       "<text text-anchor=\"start\" x=\"2572.5\" y=\"-141.8\" font-family=\"Helvetica,sans-Serif\" font-size=\"14.00\">age ≤ 56.0</text>\n",
       "<text text-anchor=\"start\" x=\"2539.5\" y=\"-126.8\" font-family=\"Helvetica,sans-Serif\" font-size=\"14.00\">mse = 4399821.556</text>\n",
       "<text text-anchor=\"start\" x=\"2563.5\" y=\"-111.8\" font-family=\"Helvetica,sans-Serif\" font-size=\"14.00\">samples = 16</text>\n",
       "<text text-anchor=\"start\" x=\"2544\" y=\"-96.8\" font-family=\"Helvetica,sans-Serif\" font-size=\"14.00\">value = 46385.838</text>\n",
       "</g>\n",
       "<!-- 24&#45;&gt;28 -->\n",
       "<g id=\"edge28\" class=\"edge\">\n",
       "<title>24&#45;&gt;28</title>\n",
       "<path fill=\"none\" stroke=\"black\" d=\"M2428.11,-193.73C2457.84,-182.46 2491.3,-169.77 2521.45,-158.34\"/>\n",
       "<polygon fill=\"black\" stroke=\"black\" points=\"2523,-161.49 2531.11,-154.67 2520.52,-154.95 2523,-161.49\"/>\n",
       "</g>\n",
       "<!-- 26 -->\n",
       "<g id=\"node27\" class=\"node\">\n",
       "<title>26</title>\n",
       "<path fill=\"#ea9a61\" stroke=\"black\" d=\"M2326.5,-53C2326.5,-53 2189.5,-53 2189.5,-53 2183.5,-53 2177.5,-47 2177.5,-41 2177.5,-41 2177.5,-12 2177.5,-12 2177.5,-6 2183.5,0 2189.5,0 2189.5,0 2326.5,0 2326.5,0 2332.5,0 2338.5,-6 2338.5,-12 2338.5,-12 2338.5,-41 2338.5,-41 2338.5,-47 2332.5,-53 2326.5,-53\"/>\n",
       "<text text-anchor=\"start\" x=\"2185.5\" y=\"-37.8\" font-family=\"Helvetica,sans-Serif\" font-size=\"14.00\">mse = 9837135.312</text>\n",
       "<text text-anchor=\"start\" x=\"2209.5\" y=\"-22.8\" font-family=\"Helvetica,sans-Serif\" font-size=\"14.00\">samples = 40</text>\n",
       "<text text-anchor=\"start\" x=\"2190\" y=\"-7.8\" font-family=\"Helvetica,sans-Serif\" font-size=\"14.00\">value = 38578.931</text>\n",
       "</g>\n",
       "<!-- 25&#45;&gt;26 -->\n",
       "<g id=\"edge26\" class=\"edge\">\n",
       "<title>25&#45;&gt;26</title>\n",
       "<path fill=\"none\" stroke=\"black\" d=\"M2313.27,-88.95C2305.04,-79.8 2296.11,-69.87 2287.87,-60.71\"/>\n",
       "<polygon fill=\"black\" stroke=\"black\" points=\"2290.44,-58.33 2281.15,-53.24 2285.23,-63.01 2290.44,-58.33\"/>\n",
       "</g>\n",
       "<!-- 27 -->\n",
       "<g id=\"node28\" class=\"node\">\n",
       "<title>27</title>\n",
       "<path fill=\"#e78b49\" stroke=\"black\" d=\"M2505.5,-53C2505.5,-53 2368.5,-53 2368.5,-53 2362.5,-53 2356.5,-47 2356.5,-41 2356.5,-41 2356.5,-12 2356.5,-12 2356.5,-6 2362.5,0 2368.5,0 2368.5,0 2505.5,0 2505.5,0 2511.5,0 2517.5,-6 2517.5,-12 2517.5,-12 2517.5,-41 2517.5,-41 2517.5,-47 2511.5,-53 2505.5,-53\"/>\n",
       "<text text-anchor=\"start\" x=\"2364.5\" y=\"-37.8\" font-family=\"Helvetica,sans-Serif\" font-size=\"14.00\">mse = 6663741.434</text>\n",
       "<text text-anchor=\"start\" x=\"2388.5\" y=\"-22.8\" font-family=\"Helvetica,sans-Serif\" font-size=\"14.00\">samples = 12</text>\n",
       "<text text-anchor=\"start\" x=\"2369\" y=\"-7.8\" font-family=\"Helvetica,sans-Serif\" font-size=\"14.00\">value = 43898.775</text>\n",
       "</g>\n",
       "<!-- 25&#45;&gt;27 -->\n",
       "<g id=\"edge27\" class=\"edge\">\n",
       "<title>25&#45;&gt;27</title>\n",
       "<path fill=\"none\" stroke=\"black\" d=\"M2375.88,-88.95C2385.07,-79.71 2395.05,-69.67 2404.24,-60.44\"/>\n",
       "<polygon fill=\"black\" stroke=\"black\" points=\"2406.83,-62.79 2411.4,-53.24 2401.87,-57.86 2406.83,-62.79\"/>\n",
       "</g>\n",
       "<!-- 29 -->\n",
       "<g id=\"node30\" class=\"node\">\n",
       "<title>29</title>\n",
       "<path fill=\"#e78c4a\" stroke=\"black\" d=\"M2676,-53C2676,-53 2548,-53 2548,-53 2542,-53 2536,-47 2536,-41 2536,-41 2536,-12 2536,-12 2536,-6 2542,0 2548,0 2548,0 2676,0 2676,0 2682,0 2688,-6 2688,-12 2688,-12 2688,-41 2688,-41 2688,-47 2682,-53 2676,-53\"/>\n",
       "<text text-anchor=\"start\" x=\"2544\" y=\"-37.8\" font-family=\"Helvetica,sans-Serif\" font-size=\"14.00\">mse = 851667.204</text>\n",
       "<text text-anchor=\"start\" x=\"2568\" y=\"-22.8\" font-family=\"Helvetica,sans-Serif\" font-size=\"14.00\">samples = 4</text>\n",
       "<text text-anchor=\"start\" x=\"2544\" y=\"-7.8\" font-family=\"Helvetica,sans-Serif\" font-size=\"14.00\">value = 43646.009</text>\n",
       "</g>\n",
       "<!-- 28&#45;&gt;29 -->\n",
       "<g id=\"edge29\" class=\"edge\">\n",
       "<title>28&#45;&gt;29</title>\n",
       "<path fill=\"none\" stroke=\"black\" d=\"M2612,-88.95C2612,-80.72 2612,-71.85 2612,-63.48\"/>\n",
       "<polygon fill=\"black\" stroke=\"black\" points=\"2615.5,-63.24 2612,-53.24 2608.5,-63.24 2615.5,-63.24\"/>\n",
       "</g>\n",
       "<!-- 30 -->\n",
       "<g id=\"node31\" class=\"node\">\n",
       "<title>30</title>\n",
       "<path fill=\"#e58139\" stroke=\"black\" d=\"M2855.5,-53C2855.5,-53 2718.5,-53 2718.5,-53 2712.5,-53 2706.5,-47 2706.5,-41 2706.5,-41 2706.5,-12 2706.5,-12 2706.5,-6 2712.5,0 2718.5,0 2718.5,0 2855.5,0 2855.5,0 2861.5,0 2867.5,-6 2867.5,-12 2867.5,-12 2867.5,-41 2867.5,-41 2867.5,-47 2861.5,-53 2855.5,-53\"/>\n",
       "<text text-anchor=\"start\" x=\"2714.5\" y=\"-37.8\" font-family=\"Helvetica,sans-Serif\" font-size=\"14.00\">mse = 1324543.461</text>\n",
       "<text text-anchor=\"start\" x=\"2738.5\" y=\"-22.8\" font-family=\"Helvetica,sans-Serif\" font-size=\"14.00\">samples = 12</text>\n",
       "<text text-anchor=\"start\" x=\"2723.5\" y=\"-7.8\" font-family=\"Helvetica,sans-Serif\" font-size=\"14.00\">value = 47560.05</text>\n",
       "</g>\n",
       "<!-- 28&#45;&gt;30 -->\n",
       "<g id=\"edge30\" class=\"edge\">\n",
       "<title>28&#45;&gt;30</title>\n",
       "<path fill=\"none\" stroke=\"black\" d=\"M2673.21,-88.95C2691.93,-78.84 2712.42,-67.78 2730.79,-57.86\"/>\n",
       "<polygon fill=\"black\" stroke=\"black\" points=\"2732.48,-60.92 2739.62,-53.09 2729.16,-54.76 2732.48,-60.92\"/>\n",
       "</g>\n",
       "</g>\n",
       "</svg>\n"
      ],
      "text/plain": [
       "<graphviz.files.Source at 0x7fefaee6c3d0>"
      ]
     },
     "execution_count": 23,
     "metadata": {},
     "output_type": "execute_result"
    }
   ],
   "source": [
    "from sklearn import tree \n",
    "from sklearn.datasets import load_iris\n",
    "\n",
    "m2 = RandomForestRegressor(n_estimators=10, max_depth=4, bootstrap=True, n_jobs=-1)\n",
    "m2.fit(df_tra.drop(['charges'], axis=1), df_tra.charges)\n",
    "\n",
    "dot_data = tree.export_graphviz(m2.estimators_[0], out_file=None, \n",
    "                                feature_names=df_tra.drop(['charges'], axis=1).columns,  \n",
    "                                filled=True, rounded=True,  \n",
    "                                special_characters=True)  \n",
    "graph = graphviz.Source(dot_data)  \n",
    "\n",
    "graph \n",
    "# graph.render(\"iris\")  run this to export this as a PDF file"
   ]
  },
  {
   "cell_type": "markdown",
   "id": "74c20284",
   "metadata": {
    "papermill": {
     "duration": 0.045363,
     "end_time": "2021-11-04T16:46:58.065014",
     "exception": false,
     "start_time": "2021-11-04T16:46:58.019651",
     "status": "completed"
    },
    "tags": []
   },
   "source": [
    "### Excursion: Draw a tree using the inbuilt approach from scikit-learn"
   ]
  },
  {
   "cell_type": "code",
   "execution_count": 24,
   "id": "36380d9e",
   "metadata": {
    "execution": {
     "iopub.execute_input": "2021-11-04T16:46:58.151462Z",
     "iopub.status.busy": "2021-11-04T16:46:58.150492Z",
     "iopub.status.idle": "2021-11-04T16:46:58.161798Z",
     "shell.execute_reply": "2021-11-04T16:46:58.162444Z",
     "shell.execute_reply.started": "2021-11-04T16:25:24.963411Z"
    },
    "papermill": {
     "duration": 0.054485,
     "end_time": "2021-11-04T16:46:58.162613",
     "exception": false,
     "start_time": "2021-11-04T16:46:58.108128",
     "status": "completed"
    },
    "tags": []
   },
   "outputs": [],
   "source": [
    "from sklearn.datasets import load_iris\n",
    "from sklearn import tree\n",
    "iris = load_iris()\n",
    "X, y = iris.data, iris.target\n",
    "clf = tree.DecisionTreeClassifier()\n",
    "clf = clf.fit(X, y)"
   ]
  },
  {
   "cell_type": "code",
   "execution_count": 25,
   "id": "35038c69",
   "metadata": {
    "execution": {
     "iopub.execute_input": "2021-11-04T16:46:58.240231Z",
     "iopub.status.busy": "2021-11-04T16:46:58.239279Z",
     "iopub.status.idle": "2021-11-04T16:46:58.304688Z",
     "shell.execute_reply": "2021-11-04T16:46:58.305192Z",
     "shell.execute_reply.started": "2021-11-04T16:25:26.723531Z"
    },
    "papermill": {
     "duration": 0.105954,
     "end_time": "2021-11-04T16:46:58.305387",
     "exception": false,
     "start_time": "2021-11-04T16:46:58.199433",
     "status": "completed"
    },
    "tags": []
   },
   "outputs": [
    {
     "data": {
      "image/svg+xml": [
       "<?xml version=\"1.0\" encoding=\"UTF-8\" standalone=\"no\"?>\n",
       "<!DOCTYPE svg PUBLIC \"-//W3C//DTD SVG 1.1//EN\"\n",
       " \"http://www.w3.org/Graphics/SVG/1.1/DTD/svg11.dtd\">\n",
       "<!-- Generated by graphviz version 2.49.0 (20210829.0051)\n",
       " -->\n",
       "<!-- Title: Tree Pages: 1 -->\n",
       "<svg width=\"995pt\" height=\"671pt\"\n",
       " viewBox=\"0.00 0.00 995.00 671.00\" xmlns=\"http://www.w3.org/2000/svg\" xmlns:xlink=\"http://www.w3.org/1999/xlink\">\n",
       "<g id=\"graph0\" class=\"graph\" transform=\"scale(1 1) rotate(0) translate(4 667)\">\n",
       "<title>Tree</title>\n",
       "<polygon fill=\"white\" stroke=\"transparent\" points=\"-4,4 -4,-667 991,-667 991,4 -4,4\"/>\n",
       "<!-- 0 -->\n",
       "<g id=\"node1\" class=\"node\">\n",
       "<title>0</title>\n",
       "<path fill=\"#ffffff\" stroke=\"black\" d=\"M588.5,-663C588.5,-663 439.5,-663 439.5,-663 433.5,-663 427.5,-657 427.5,-651 427.5,-651 427.5,-592 427.5,-592 427.5,-586 433.5,-580 439.5,-580 439.5,-580 588.5,-580 588.5,-580 594.5,-580 600.5,-586 600.5,-592 600.5,-592 600.5,-651 600.5,-651 600.5,-657 594.5,-663 588.5,-663\"/>\n",
       "<text text-anchor=\"start\" x=\"435.5\" y=\"-647.8\" font-family=\"Helvetica,sans-Serif\" font-size=\"14.00\">petal width (cm) ≤ 0.8</text>\n",
       "<text text-anchor=\"start\" x=\"470\" y=\"-632.8\" font-family=\"Helvetica,sans-Serif\" font-size=\"14.00\">gini = 0.667</text>\n",
       "<text text-anchor=\"start\" x=\"461\" y=\"-617.8\" font-family=\"Helvetica,sans-Serif\" font-size=\"14.00\">samples = 150</text>\n",
       "<text text-anchor=\"start\" x=\"443\" y=\"-602.8\" font-family=\"Helvetica,sans-Serif\" font-size=\"14.00\">value = [50, 50, 50]</text>\n",
       "<text text-anchor=\"start\" x=\"463.5\" y=\"-587.8\" font-family=\"Helvetica,sans-Serif\" font-size=\"14.00\">class = setosa</text>\n",
       "</g>\n",
       "<!-- 1 -->\n",
       "<g id=\"node2\" class=\"node\">\n",
       "<title>1</title>\n",
       "<path fill=\"#e58139\" stroke=\"black\" d=\"M483,-536.5C483,-536.5 367,-536.5 367,-536.5 361,-536.5 355,-530.5 355,-524.5 355,-524.5 355,-480.5 355,-480.5 355,-474.5 361,-468.5 367,-468.5 367,-468.5 483,-468.5 483,-468.5 489,-468.5 495,-474.5 495,-480.5 495,-480.5 495,-524.5 495,-524.5 495,-530.5 489,-536.5 483,-536.5\"/>\n",
       "<text text-anchor=\"start\" x=\"390\" y=\"-521.3\" font-family=\"Helvetica,sans-Serif\" font-size=\"14.00\">gini = 0.0</text>\n",
       "<text text-anchor=\"start\" x=\"376.5\" y=\"-506.3\" font-family=\"Helvetica,sans-Serif\" font-size=\"14.00\">samples = 50</text>\n",
       "<text text-anchor=\"start\" x=\"363\" y=\"-491.3\" font-family=\"Helvetica,sans-Serif\" font-size=\"14.00\">value = [50, 0, 0]</text>\n",
       "<text text-anchor=\"start\" x=\"374.5\" y=\"-476.3\" font-family=\"Helvetica,sans-Serif\" font-size=\"14.00\">class = setosa</text>\n",
       "</g>\n",
       "<!-- 0&#45;&gt;1 -->\n",
       "<g id=\"edge1\" class=\"edge\">\n",
       "<title>0&#45;&gt;1</title>\n",
       "<path fill=\"none\" stroke=\"black\" d=\"M483.12,-579.91C474.48,-568.54 465.07,-556.18 456.4,-544.77\"/>\n",
       "<polygon fill=\"black\" stroke=\"black\" points=\"459.07,-542.51 450.23,-536.67 453.5,-546.74 459.07,-542.51\"/>\n",
       "<text text-anchor=\"middle\" x=\"446.86\" y=\"-557.74\" font-family=\"Helvetica,sans-Serif\" font-size=\"14.00\">True</text>\n",
       "</g>\n",
       "<!-- 2 -->\n",
       "<g id=\"node3\" class=\"node\">\n",
       "<title>2</title>\n",
       "<path fill=\"#ffffff\" stroke=\"black\" d=\"M683,-544C683,-544 525,-544 525,-544 519,-544 513,-538 513,-532 513,-532 513,-473 513,-473 513,-467 519,-461 525,-461 525,-461 683,-461 683,-461 689,-461 695,-467 695,-473 695,-473 695,-532 695,-532 695,-538 689,-544 683,-544\"/>\n",
       "<text text-anchor=\"start\" x=\"521\" y=\"-528.8\" font-family=\"Helvetica,sans-Serif\" font-size=\"14.00\">petal width (cm) ≤ 1.75</text>\n",
       "<text text-anchor=\"start\" x=\"569\" y=\"-513.8\" font-family=\"Helvetica,sans-Serif\" font-size=\"14.00\">gini = 0.5</text>\n",
       "<text text-anchor=\"start\" x=\"551\" y=\"-498.8\" font-family=\"Helvetica,sans-Serif\" font-size=\"14.00\">samples = 100</text>\n",
       "<text text-anchor=\"start\" x=\"537.5\" y=\"-483.8\" font-family=\"Helvetica,sans-Serif\" font-size=\"14.00\">value = [0, 50, 50]</text>\n",
       "<text text-anchor=\"start\" x=\"542\" y=\"-468.8\" font-family=\"Helvetica,sans-Serif\" font-size=\"14.00\">class = versicolor</text>\n",
       "</g>\n",
       "<!-- 0&#45;&gt;2 -->\n",
       "<g id=\"edge2\" class=\"edge\">\n",
       "<title>0&#45;&gt;2</title>\n",
       "<path fill=\"none\" stroke=\"black\" d=\"M545.23,-579.91C552.14,-570.92 559.53,-561.32 566.65,-552.05\"/>\n",
       "<polygon fill=\"black\" stroke=\"black\" points=\"569.51,-554.08 572.83,-544.02 563.96,-549.81 569.51,-554.08\"/>\n",
       "<text text-anchor=\"middle\" x=\"576.06\" y=\"-565.11\" font-family=\"Helvetica,sans-Serif\" font-size=\"14.00\">False</text>\n",
       "</g>\n",
       "<!-- 3 -->\n",
       "<g id=\"node4\" class=\"node\">\n",
       "<title>3</title>\n",
       "<path fill=\"#4de88e\" stroke=\"black\" d=\"M557,-425C557,-425 393,-425 393,-425 387,-425 381,-419 381,-413 381,-413 381,-354 381,-354 381,-348 387,-342 393,-342 393,-342 557,-342 557,-342 563,-342 569,-348 569,-354 569,-354 569,-413 569,-413 569,-419 563,-425 557,-425\"/>\n",
       "<text text-anchor=\"start\" x=\"389\" y=\"-409.8\" font-family=\"Helvetica,sans-Serif\" font-size=\"14.00\">petal length (cm) ≤ 4.95</text>\n",
       "<text text-anchor=\"start\" x=\"431\" y=\"-394.8\" font-family=\"Helvetica,sans-Serif\" font-size=\"14.00\">gini = 0.168</text>\n",
       "<text text-anchor=\"start\" x=\"426.5\" y=\"-379.8\" font-family=\"Helvetica,sans-Serif\" font-size=\"14.00\">samples = 54</text>\n",
       "<text text-anchor=\"start\" x=\"413\" y=\"-364.8\" font-family=\"Helvetica,sans-Serif\" font-size=\"14.00\">value = [0, 49, 5]</text>\n",
       "<text text-anchor=\"start\" x=\"413\" y=\"-349.8\" font-family=\"Helvetica,sans-Serif\" font-size=\"14.00\">class = versicolor</text>\n",
       "</g>\n",
       "<!-- 2&#45;&gt;3 -->\n",
       "<g id=\"edge3\" class=\"edge\">\n",
       "<title>2&#45;&gt;3</title>\n",
       "<path fill=\"none\" stroke=\"black\" d=\"M559.24,-460.91C548.94,-451.56 537.89,-441.54 527.29,-431.93\"/>\n",
       "<polygon fill=\"black\" stroke=\"black\" points=\"529.44,-429.15 519.68,-425.02 524.73,-434.33 529.44,-429.15\"/>\n",
       "</g>\n",
       "<!-- 12 -->\n",
       "<g id=\"node13\" class=\"node\">\n",
       "<title>12</title>\n",
       "<path fill=\"#843de6\" stroke=\"black\" d=\"M815,-425C815,-425 651,-425 651,-425 645,-425 639,-419 639,-413 639,-413 639,-354 639,-354 639,-348 645,-342 651,-342 651,-342 815,-342 815,-342 821,-342 827,-348 827,-354 827,-354 827,-413 827,-413 827,-419 821,-425 815,-425\"/>\n",
       "<text text-anchor=\"start\" x=\"647\" y=\"-409.8\" font-family=\"Helvetica,sans-Serif\" font-size=\"14.00\">petal length (cm) ≤ 4.85</text>\n",
       "<text text-anchor=\"start\" x=\"689\" y=\"-394.8\" font-family=\"Helvetica,sans-Serif\" font-size=\"14.00\">gini = 0.043</text>\n",
       "<text text-anchor=\"start\" x=\"684.5\" y=\"-379.8\" font-family=\"Helvetica,sans-Serif\" font-size=\"14.00\">samples = 46</text>\n",
       "<text text-anchor=\"start\" x=\"671\" y=\"-364.8\" font-family=\"Helvetica,sans-Serif\" font-size=\"14.00\">value = [0, 1, 45]</text>\n",
       "<text text-anchor=\"start\" x=\"675.5\" y=\"-349.8\" font-family=\"Helvetica,sans-Serif\" font-size=\"14.00\">class = virginica</text>\n",
       "</g>\n",
       "<!-- 2&#45;&gt;12 -->\n",
       "<g id=\"edge12\" class=\"edge\">\n",
       "<title>2&#45;&gt;12</title>\n",
       "<path fill=\"none\" stroke=\"black\" d=\"M648.76,-460.91C659.06,-451.56 670.11,-441.54 680.71,-431.93\"/>\n",
       "<polygon fill=\"black\" stroke=\"black\" points=\"683.27,-434.33 688.32,-425.02 678.56,-429.15 683.27,-434.33\"/>\n",
       "</g>\n",
       "<!-- 4 -->\n",
       "<g id=\"node5\" class=\"node\">\n",
       "<title>4</title>\n",
       "<path fill=\"#3de684\" stroke=\"black\" d=\"M303,-306C303,-306 145,-306 145,-306 139,-306 133,-300 133,-294 133,-294 133,-235 133,-235 133,-229 139,-223 145,-223 145,-223 303,-223 303,-223 309,-223 315,-229 315,-235 315,-235 315,-294 315,-294 315,-300 309,-306 303,-306\"/>\n",
       "<text text-anchor=\"start\" x=\"141\" y=\"-290.8\" font-family=\"Helvetica,sans-Serif\" font-size=\"14.00\">petal width (cm) ≤ 1.65</text>\n",
       "<text text-anchor=\"start\" x=\"180\" y=\"-275.8\" font-family=\"Helvetica,sans-Serif\" font-size=\"14.00\">gini = 0.041</text>\n",
       "<text text-anchor=\"start\" x=\"175.5\" y=\"-260.8\" font-family=\"Helvetica,sans-Serif\" font-size=\"14.00\">samples = 48</text>\n",
       "<text text-anchor=\"start\" x=\"162\" y=\"-245.8\" font-family=\"Helvetica,sans-Serif\" font-size=\"14.00\">value = [0, 47, 1]</text>\n",
       "<text text-anchor=\"start\" x=\"162\" y=\"-230.8\" font-family=\"Helvetica,sans-Serif\" font-size=\"14.00\">class = versicolor</text>\n",
       "</g>\n",
       "<!-- 3&#45;&gt;4 -->\n",
       "<g id=\"edge4\" class=\"edge\">\n",
       "<title>3&#45;&gt;4</title>\n",
       "<path fill=\"none\" stroke=\"black\" d=\"M387.92,-341.91C366.01,-331.7 342.38,-320.68 320.07,-310.28\"/>\n",
       "<polygon fill=\"black\" stroke=\"black\" points=\"321.47,-307.07 310.93,-306.02 318.51,-313.42 321.47,-307.07\"/>\n",
       "</g>\n",
       "<!-- 7 -->\n",
       "<g id=\"node8\" class=\"node\">\n",
       "<title>7</title>\n",
       "<path fill=\"#c09cf2\" stroke=\"black\" d=\"M554,-306C554,-306 396,-306 396,-306 390,-306 384,-300 384,-294 384,-294 384,-235 384,-235 384,-229 390,-223 396,-223 396,-223 554,-223 554,-223 560,-223 566,-229 566,-235 566,-235 566,-294 566,-294 566,-300 560,-306 554,-306\"/>\n",
       "<text text-anchor=\"start\" x=\"392\" y=\"-290.8\" font-family=\"Helvetica,sans-Serif\" font-size=\"14.00\">petal width (cm) ≤ 1.55</text>\n",
       "<text text-anchor=\"start\" x=\"431\" y=\"-275.8\" font-family=\"Helvetica,sans-Serif\" font-size=\"14.00\">gini = 0.444</text>\n",
       "<text text-anchor=\"start\" x=\"431\" y=\"-260.8\" font-family=\"Helvetica,sans-Serif\" font-size=\"14.00\">samples = 6</text>\n",
       "<text text-anchor=\"start\" x=\"417.5\" y=\"-245.8\" font-family=\"Helvetica,sans-Serif\" font-size=\"14.00\">value = [0, 2, 4]</text>\n",
       "<text text-anchor=\"start\" x=\"417.5\" y=\"-230.8\" font-family=\"Helvetica,sans-Serif\" font-size=\"14.00\">class = virginica</text>\n",
       "</g>\n",
       "<!-- 3&#45;&gt;7 -->\n",
       "<g id=\"edge7\" class=\"edge\">\n",
       "<title>3&#45;&gt;7</title>\n",
       "<path fill=\"none\" stroke=\"black\" d=\"M475,-341.91C475,-333.65 475,-324.86 475,-316.3\"/>\n",
       "<polygon fill=\"black\" stroke=\"black\" points=\"478.5,-316.02 475,-306.02 471.5,-316.02 478.5,-316.02\"/>\n",
       "</g>\n",
       "<!-- 5 -->\n",
       "<g id=\"node6\" class=\"node\">\n",
       "<title>5</title>\n",
       "<path fill=\"#39e581\" stroke=\"black\" d=\"M128,-179.5C128,-179.5 12,-179.5 12,-179.5 6,-179.5 0,-173.5 0,-167.5 0,-167.5 0,-123.5 0,-123.5 0,-117.5 6,-111.5 12,-111.5 12,-111.5 128,-111.5 128,-111.5 134,-111.5 140,-117.5 140,-123.5 140,-123.5 140,-167.5 140,-167.5 140,-173.5 134,-179.5 128,-179.5\"/>\n",
       "<text text-anchor=\"start\" x=\"35\" y=\"-164.3\" font-family=\"Helvetica,sans-Serif\" font-size=\"14.00\">gini = 0.0</text>\n",
       "<text text-anchor=\"start\" x=\"21.5\" y=\"-149.3\" font-family=\"Helvetica,sans-Serif\" font-size=\"14.00\">samples = 47</text>\n",
       "<text text-anchor=\"start\" x=\"8\" y=\"-134.3\" font-family=\"Helvetica,sans-Serif\" font-size=\"14.00\">value = [0, 47, 0]</text>\n",
       "<text text-anchor=\"start\" x=\"8\" y=\"-119.3\" font-family=\"Helvetica,sans-Serif\" font-size=\"14.00\">class = versicolor</text>\n",
       "</g>\n",
       "<!-- 4&#45;&gt;5 -->\n",
       "<g id=\"edge5\" class=\"edge\">\n",
       "<title>4&#45;&gt;5</title>\n",
       "<path fill=\"none\" stroke=\"black\" d=\"M170.57,-222.91C154.74,-210.88 137.44,-197.73 121.72,-185.79\"/>\n",
       "<polygon fill=\"black\" stroke=\"black\" points=\"123.74,-182.93 113.66,-179.67 119.5,-188.5 123.74,-182.93\"/>\n",
       "</g>\n",
       "<!-- 6 -->\n",
       "<g id=\"node7\" class=\"node\">\n",
       "<title>6</title>\n",
       "<path fill=\"#8139e5\" stroke=\"black\" d=\"M277.5,-179.5C277.5,-179.5 170.5,-179.5 170.5,-179.5 164.5,-179.5 158.5,-173.5 158.5,-167.5 158.5,-167.5 158.5,-123.5 158.5,-123.5 158.5,-117.5 164.5,-111.5 170.5,-111.5 170.5,-111.5 277.5,-111.5 277.5,-111.5 283.5,-111.5 289.5,-117.5 289.5,-123.5 289.5,-123.5 289.5,-167.5 289.5,-167.5 289.5,-173.5 283.5,-179.5 277.5,-179.5\"/>\n",
       "<text text-anchor=\"start\" x=\"189\" y=\"-164.3\" font-family=\"Helvetica,sans-Serif\" font-size=\"14.00\">gini = 0.0</text>\n",
       "<text text-anchor=\"start\" x=\"180\" y=\"-149.3\" font-family=\"Helvetica,sans-Serif\" font-size=\"14.00\">samples = 1</text>\n",
       "<text text-anchor=\"start\" x=\"166.5\" y=\"-134.3\" font-family=\"Helvetica,sans-Serif\" font-size=\"14.00\">value = [0, 0, 1]</text>\n",
       "<text text-anchor=\"start\" x=\"166.5\" y=\"-119.3\" font-family=\"Helvetica,sans-Serif\" font-size=\"14.00\">class = virginica</text>\n",
       "</g>\n",
       "<!-- 4&#45;&gt;6 -->\n",
       "<g id=\"edge6\" class=\"edge\">\n",
       "<title>4&#45;&gt;6</title>\n",
       "<path fill=\"none\" stroke=\"black\" d=\"M224,-222.91C224,-212.2 224,-200.62 224,-189.78\"/>\n",
       "<polygon fill=\"black\" stroke=\"black\" points=\"227.5,-189.67 224,-179.67 220.5,-189.67 227.5,-189.67\"/>\n",
       "</g>\n",
       "<!-- 8 -->\n",
       "<g id=\"node9\" class=\"node\">\n",
       "<title>8</title>\n",
       "<path fill=\"#8139e5\" stroke=\"black\" d=\"M426.5,-179.5C426.5,-179.5 319.5,-179.5 319.5,-179.5 313.5,-179.5 307.5,-173.5 307.5,-167.5 307.5,-167.5 307.5,-123.5 307.5,-123.5 307.5,-117.5 313.5,-111.5 319.5,-111.5 319.5,-111.5 426.5,-111.5 426.5,-111.5 432.5,-111.5 438.5,-117.5 438.5,-123.5 438.5,-123.5 438.5,-167.5 438.5,-167.5 438.5,-173.5 432.5,-179.5 426.5,-179.5\"/>\n",
       "<text text-anchor=\"start\" x=\"338\" y=\"-164.3\" font-family=\"Helvetica,sans-Serif\" font-size=\"14.00\">gini = 0.0</text>\n",
       "<text text-anchor=\"start\" x=\"329\" y=\"-149.3\" font-family=\"Helvetica,sans-Serif\" font-size=\"14.00\">samples = 3</text>\n",
       "<text text-anchor=\"start\" x=\"315.5\" y=\"-134.3\" font-family=\"Helvetica,sans-Serif\" font-size=\"14.00\">value = [0, 0, 3]</text>\n",
       "<text text-anchor=\"start\" x=\"315.5\" y=\"-119.3\" font-family=\"Helvetica,sans-Serif\" font-size=\"14.00\">class = virginica</text>\n",
       "</g>\n",
       "<!-- 7&#45;&gt;8 -->\n",
       "<g id=\"edge8\" class=\"edge\">\n",
       "<title>7&#45;&gt;8</title>\n",
       "<path fill=\"none\" stroke=\"black\" d=\"M439.61,-222.91C429.61,-211.43 418.72,-198.94 408.69,-187.44\"/>\n",
       "<polygon fill=\"black\" stroke=\"black\" points=\"411.12,-184.9 401.91,-179.67 405.85,-189.5 411.12,-184.9\"/>\n",
       "</g>\n",
       "<!-- 9 -->\n",
       "<g id=\"node10\" class=\"node\">\n",
       "<title>9</title>\n",
       "<path fill=\"#9cf2c0\" stroke=\"black\" d=\"M633,-187C633,-187 469,-187 469,-187 463,-187 457,-181 457,-175 457,-175 457,-116 457,-116 457,-110 463,-104 469,-104 469,-104 633,-104 633,-104 639,-104 645,-110 645,-116 645,-116 645,-175 645,-175 645,-181 639,-187 633,-187\"/>\n",
       "<text text-anchor=\"start\" x=\"465\" y=\"-171.8\" font-family=\"Helvetica,sans-Serif\" font-size=\"14.00\">petal length (cm) ≤ 5.45</text>\n",
       "<text text-anchor=\"start\" x=\"507\" y=\"-156.8\" font-family=\"Helvetica,sans-Serif\" font-size=\"14.00\">gini = 0.444</text>\n",
       "<text text-anchor=\"start\" x=\"507\" y=\"-141.8\" font-family=\"Helvetica,sans-Serif\" font-size=\"14.00\">samples = 3</text>\n",
       "<text text-anchor=\"start\" x=\"493.5\" y=\"-126.8\" font-family=\"Helvetica,sans-Serif\" font-size=\"14.00\">value = [0, 2, 1]</text>\n",
       "<text text-anchor=\"start\" x=\"489\" y=\"-111.8\" font-family=\"Helvetica,sans-Serif\" font-size=\"14.00\">class = versicolor</text>\n",
       "</g>\n",
       "<!-- 7&#45;&gt;9 -->\n",
       "<g id=\"edge9\" class=\"edge\">\n",
       "<title>7&#45;&gt;9</title>\n",
       "<path fill=\"none\" stroke=\"black\" d=\"M501.37,-222.91C507.09,-214.1 513.19,-204.7 519.1,-195.61\"/>\n",
       "<polygon fill=\"black\" stroke=\"black\" points=\"522.17,-197.31 524.68,-187.02 516.3,-193.5 522.17,-197.31\"/>\n",
       "</g>\n",
       "<!-- 10 -->\n",
       "<g id=\"node11\" class=\"node\">\n",
       "<title>10</title>\n",
       "<path fill=\"#39e581\" stroke=\"black\" d=\"M532,-68C532,-68 416,-68 416,-68 410,-68 404,-62 404,-56 404,-56 404,-12 404,-12 404,-6 410,0 416,0 416,0 532,0 532,0 538,0 544,-6 544,-12 544,-12 544,-56 544,-56 544,-62 538,-68 532,-68\"/>\n",
       "<text text-anchor=\"start\" x=\"439\" y=\"-52.8\" font-family=\"Helvetica,sans-Serif\" font-size=\"14.00\">gini = 0.0</text>\n",
       "<text text-anchor=\"start\" x=\"430\" y=\"-37.8\" font-family=\"Helvetica,sans-Serif\" font-size=\"14.00\">samples = 2</text>\n",
       "<text text-anchor=\"start\" x=\"416.5\" y=\"-22.8\" font-family=\"Helvetica,sans-Serif\" font-size=\"14.00\">value = [0, 2, 0]</text>\n",
       "<text text-anchor=\"start\" x=\"412\" y=\"-7.8\" font-family=\"Helvetica,sans-Serif\" font-size=\"14.00\">class = versicolor</text>\n",
       "</g>\n",
       "<!-- 9&#45;&gt;10 -->\n",
       "<g id=\"edge10\" class=\"edge\">\n",
       "<title>9&#45;&gt;10</title>\n",
       "<path fill=\"none\" stroke=\"black\" d=\"M522.33,-103.73C516.11,-94.88 509.52,-85.51 503.27,-76.63\"/>\n",
       "<polygon fill=\"black\" stroke=\"black\" points=\"506.03,-74.47 497.42,-68.3 500.31,-78.49 506.03,-74.47\"/>\n",
       "</g>\n",
       "<!-- 11 -->\n",
       "<g id=\"node12\" class=\"node\">\n",
       "<title>11</title>\n",
       "<path fill=\"#8139e5\" stroke=\"black\" d=\"M681.5,-68C681.5,-68 574.5,-68 574.5,-68 568.5,-68 562.5,-62 562.5,-56 562.5,-56 562.5,-12 562.5,-12 562.5,-6 568.5,0 574.5,0 574.5,0 681.5,0 681.5,0 687.5,0 693.5,-6 693.5,-12 693.5,-12 693.5,-56 693.5,-56 693.5,-62 687.5,-68 681.5,-68\"/>\n",
       "<text text-anchor=\"start\" x=\"593\" y=\"-52.8\" font-family=\"Helvetica,sans-Serif\" font-size=\"14.00\">gini = 0.0</text>\n",
       "<text text-anchor=\"start\" x=\"584\" y=\"-37.8\" font-family=\"Helvetica,sans-Serif\" font-size=\"14.00\">samples = 1</text>\n",
       "<text text-anchor=\"start\" x=\"570.5\" y=\"-22.8\" font-family=\"Helvetica,sans-Serif\" font-size=\"14.00\">value = [0, 0, 1]</text>\n",
       "<text text-anchor=\"start\" x=\"570.5\" y=\"-7.8\" font-family=\"Helvetica,sans-Serif\" font-size=\"14.00\">class = virginica</text>\n",
       "</g>\n",
       "<!-- 9&#45;&gt;11 -->\n",
       "<g id=\"edge11\" class=\"edge\">\n",
       "<title>9&#45;&gt;11</title>\n",
       "<path fill=\"none\" stroke=\"black\" d=\"M579.67,-103.73C585.89,-94.88 592.48,-85.51 598.73,-76.63\"/>\n",
       "<polygon fill=\"black\" stroke=\"black\" points=\"601.69,-78.49 604.58,-68.3 595.97,-74.47 601.69,-78.49\"/>\n",
       "</g>\n",
       "<!-- 13 -->\n",
       "<g id=\"node14\" class=\"node\">\n",
       "<title>13</title>\n",
       "<path fill=\"#c09cf2\" stroke=\"black\" d=\"M816.5,-306C816.5,-306 649.5,-306 649.5,-306 643.5,-306 637.5,-300 637.5,-294 637.5,-294 637.5,-235 637.5,-235 637.5,-229 643.5,-223 649.5,-223 649.5,-223 816.5,-223 816.5,-223 822.5,-223 828.5,-229 828.5,-235 828.5,-235 828.5,-294 828.5,-294 828.5,-300 822.5,-306 816.5,-306\"/>\n",
       "<text text-anchor=\"start\" x=\"645.5\" y=\"-290.8\" font-family=\"Helvetica,sans-Serif\" font-size=\"14.00\">sepal length (cm) ≤ 5.95</text>\n",
       "<text text-anchor=\"start\" x=\"689\" y=\"-275.8\" font-family=\"Helvetica,sans-Serif\" font-size=\"14.00\">gini = 0.444</text>\n",
       "<text text-anchor=\"start\" x=\"689\" y=\"-260.8\" font-family=\"Helvetica,sans-Serif\" font-size=\"14.00\">samples = 3</text>\n",
       "<text text-anchor=\"start\" x=\"675.5\" y=\"-245.8\" font-family=\"Helvetica,sans-Serif\" font-size=\"14.00\">value = [0, 1, 2]</text>\n",
       "<text text-anchor=\"start\" x=\"675.5\" y=\"-230.8\" font-family=\"Helvetica,sans-Serif\" font-size=\"14.00\">class = virginica</text>\n",
       "</g>\n",
       "<!-- 12&#45;&gt;13 -->\n",
       "<g id=\"edge13\" class=\"edge\">\n",
       "<title>12&#45;&gt;13</title>\n",
       "<path fill=\"none\" stroke=\"black\" d=\"M733,-341.91C733,-333.65 733,-324.86 733,-316.3\"/>\n",
       "<polygon fill=\"black\" stroke=\"black\" points=\"736.5,-316.02 733,-306.02 729.5,-316.02 736.5,-316.02\"/>\n",
       "</g>\n",
       "<!-- 16 -->\n",
       "<g id=\"node17\" class=\"node\">\n",
       "<title>16</title>\n",
       "<path fill=\"#8139e5\" stroke=\"black\" d=\"M975,-298.5C975,-298.5 859,-298.5 859,-298.5 853,-298.5 847,-292.5 847,-286.5 847,-286.5 847,-242.5 847,-242.5 847,-236.5 853,-230.5 859,-230.5 859,-230.5 975,-230.5 975,-230.5 981,-230.5 987,-236.5 987,-242.5 987,-242.5 987,-286.5 987,-286.5 987,-292.5 981,-298.5 975,-298.5\"/>\n",
       "<text text-anchor=\"start\" x=\"882\" y=\"-283.3\" font-family=\"Helvetica,sans-Serif\" font-size=\"14.00\">gini = 0.0</text>\n",
       "<text text-anchor=\"start\" x=\"868.5\" y=\"-268.3\" font-family=\"Helvetica,sans-Serif\" font-size=\"14.00\">samples = 43</text>\n",
       "<text text-anchor=\"start\" x=\"855\" y=\"-253.3\" font-family=\"Helvetica,sans-Serif\" font-size=\"14.00\">value = [0, 0, 43]</text>\n",
       "<text text-anchor=\"start\" x=\"859.5\" y=\"-238.3\" font-family=\"Helvetica,sans-Serif\" font-size=\"14.00\">class = virginica</text>\n",
       "</g>\n",
       "<!-- 12&#45;&gt;16 -->\n",
       "<g id=\"edge16\" class=\"edge\">\n",
       "<title>12&#45;&gt;16</title>\n",
       "<path fill=\"none\" stroke=\"black\" d=\"M796.84,-341.91C816.1,-329.66 837.19,-316.25 856.24,-304.13\"/>\n",
       "<polygon fill=\"black\" stroke=\"black\" points=\"858.28,-306.99 864.84,-298.67 854.52,-301.08 858.28,-306.99\"/>\n",
       "</g>\n",
       "<!-- 14 -->\n",
       "<g id=\"node15\" class=\"node\">\n",
       "<title>14</title>\n",
       "<path fill=\"#39e581\" stroke=\"black\" d=\"M791,-179.5C791,-179.5 675,-179.5 675,-179.5 669,-179.5 663,-173.5 663,-167.5 663,-167.5 663,-123.5 663,-123.5 663,-117.5 669,-111.5 675,-111.5 675,-111.5 791,-111.5 791,-111.5 797,-111.5 803,-117.5 803,-123.5 803,-123.5 803,-167.5 803,-167.5 803,-173.5 797,-179.5 791,-179.5\"/>\n",
       "<text text-anchor=\"start\" x=\"698\" y=\"-164.3\" font-family=\"Helvetica,sans-Serif\" font-size=\"14.00\">gini = 0.0</text>\n",
       "<text text-anchor=\"start\" x=\"689\" y=\"-149.3\" font-family=\"Helvetica,sans-Serif\" font-size=\"14.00\">samples = 1</text>\n",
       "<text text-anchor=\"start\" x=\"675.5\" y=\"-134.3\" font-family=\"Helvetica,sans-Serif\" font-size=\"14.00\">value = [0, 1, 0]</text>\n",
       "<text text-anchor=\"start\" x=\"671\" y=\"-119.3\" font-family=\"Helvetica,sans-Serif\" font-size=\"14.00\">class = versicolor</text>\n",
       "</g>\n",
       "<!-- 13&#45;&gt;14 -->\n",
       "<g id=\"edge14\" class=\"edge\">\n",
       "<title>13&#45;&gt;14</title>\n",
       "<path fill=\"none\" stroke=\"black\" d=\"M733,-222.91C733,-212.2 733,-200.62 733,-189.78\"/>\n",
       "<polygon fill=\"black\" stroke=\"black\" points=\"736.5,-189.67 733,-179.67 729.5,-189.67 736.5,-189.67\"/>\n",
       "</g>\n",
       "<!-- 15 -->\n",
       "<g id=\"node16\" class=\"node\">\n",
       "<title>15</title>\n",
       "<path fill=\"#8139e5\" stroke=\"black\" d=\"M940.5,-179.5C940.5,-179.5 833.5,-179.5 833.5,-179.5 827.5,-179.5 821.5,-173.5 821.5,-167.5 821.5,-167.5 821.5,-123.5 821.5,-123.5 821.5,-117.5 827.5,-111.5 833.5,-111.5 833.5,-111.5 940.5,-111.5 940.5,-111.5 946.5,-111.5 952.5,-117.5 952.5,-123.5 952.5,-123.5 952.5,-167.5 952.5,-167.5 952.5,-173.5 946.5,-179.5 940.5,-179.5\"/>\n",
       "<text text-anchor=\"start\" x=\"852\" y=\"-164.3\" font-family=\"Helvetica,sans-Serif\" font-size=\"14.00\">gini = 0.0</text>\n",
       "<text text-anchor=\"start\" x=\"843\" y=\"-149.3\" font-family=\"Helvetica,sans-Serif\" font-size=\"14.00\">samples = 2</text>\n",
       "<text text-anchor=\"start\" x=\"829.5\" y=\"-134.3\" font-family=\"Helvetica,sans-Serif\" font-size=\"14.00\">value = [0, 0, 2]</text>\n",
       "<text text-anchor=\"start\" x=\"829.5\" y=\"-119.3\" font-family=\"Helvetica,sans-Serif\" font-size=\"14.00\">class = virginica</text>\n",
       "</g>\n",
       "<!-- 13&#45;&gt;15 -->\n",
       "<g id=\"edge15\" class=\"edge\">\n",
       "<title>13&#45;&gt;15</title>\n",
       "<path fill=\"none\" stroke=\"black\" d=\"M786.43,-222.91C802.26,-210.88 819.56,-197.73 835.28,-185.79\"/>\n",
       "<polygon fill=\"black\" stroke=\"black\" points=\"837.5,-188.5 843.34,-179.67 833.26,-182.93 837.5,-188.5\"/>\n",
       "</g>\n",
       "</g>\n",
       "</svg>\n"
      ],
      "text/plain": [
       "<graphviz.files.Source at 0x7fefaee19810>"
      ]
     },
     "execution_count": 25,
     "metadata": {},
     "output_type": "execute_result"
    }
   ],
   "source": [
    "import graphviz \n",
    "dot_data = tree.export_graphviz(clf, out_file=None, \n",
    "                                feature_names=iris.feature_names,  \n",
    "                                class_names=iris.target_names,  \n",
    "                                filled=True, rounded=True,  \n",
    "                                special_characters=True)  \n",
    "graph = graphviz.Source(dot_data)  \n",
    "\n",
    "graph \n",
    "# graph.render(\"iris\")  run this to export this as a PDF file"
   ]
  },
  {
   "cell_type": "markdown",
   "id": "83adc3e1",
   "metadata": {
    "execution": {
     "iopub.execute_input": "2021-10-25T11:07:42.008164Z",
     "iopub.status.busy": "2021-10-25T11:07:42.007889Z",
     "iopub.status.idle": "2021-10-25T11:07:42.01273Z",
     "shell.execute_reply": "2021-10-25T11:07:42.011899Z",
     "shell.execute_reply.started": "2021-10-25T11:07:42.008136Z"
    },
    "papermill": {
     "duration": 0.037442,
     "end_time": "2021-11-04T16:46:58.381007",
     "exception": false,
     "start_time": "2021-11-04T16:46:58.343565",
     "status": "completed"
    },
    "tags": []
   },
   "source": [
    "## 3. Interpreting the random forest, part I (feature importances)"
   ]
  },
  {
   "cell_type": "code",
   "execution_count": null,
   "id": "84187e36",
   "metadata": {
    "papermill": {
     "duration": 0.037856,
     "end_time": "2021-11-04T16:46:58.456576",
     "exception": false,
     "start_time": "2021-11-04T16:46:58.418720",
     "status": "completed"
    },
    "tags": []
   },
   "outputs": [],
   "source": []
  }
 ],
 "metadata": {
  "kernelspec": {
   "display_name": "Python 3",
   "language": "python",
   "name": "python3"
  },
  "language_info": {
   "codemirror_mode": {
    "name": "ipython",
    "version": 3
   },
   "file_extension": ".py",
   "mimetype": "text/x-python",
   "name": "python",
   "nbconvert_exporter": "python",
   "pygments_lexer": "ipython3",
   "version": "3.7.10"
  },
  "papermill": {
   "default_parameters": {},
   "duration": 593.145365,
   "end_time": "2021-11-04T16:46:59.204624",
   "environment_variables": {},
   "exception": null,
   "input_path": "__notebook__.ipynb",
   "output_path": "__notebook__.ipynb",
   "parameters": {},
   "start_time": "2021-11-04T16:37:06.059259",
   "version": "2.3.3"
  }
 },
 "nbformat": 4,
 "nbformat_minor": 5
}
